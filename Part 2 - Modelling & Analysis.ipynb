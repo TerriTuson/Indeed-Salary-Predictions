{
 "cells": [
  {
   "cell_type": "code",
   "execution_count": 1,
   "id": "34abf9ea",
   "metadata": {},
   "outputs": [],
   "source": [
    "#import packages\n",
    "import numpy as np\n",
    "import pandas as pd \n",
    "import requests\n",
    "import bs4\n",
    "from bs4 import BeautifulSoup\n",
    "import numpy as np\n",
    "import pandas as pd"
   ]
  },
  {
   "cell_type": "code",
   "execution_count": 2,
   "id": "23401e00",
   "metadata": {},
   "outputs": [],
   "source": [
    "import matplotlib as mpl\n",
    "import matplotlib.pyplot as plt\n",
    "import seaborn as sns\n",
    "from sklearn.model_selection import train_test_split, cross_val_score, GridSearchCV\n",
    "from sklearn.preprocessing import StandardScaler\n",
    "from sklearn.linear_model import LogisticRegression, LogisticRegressionCV\n",
    "from sklearn.tree import DecisionTreeClassifier\n",
    "\n",
    "mpl.rcParams[\"figure.dpi\"] = 300\n",
    "%matplotlib inline\n",
    "%config InlineBackend.figure_format ='retina'"
   ]
  },
  {
   "cell_type": "code",
   "execution_count": 3,
   "id": "738aa81a",
   "metadata": {},
   "outputs": [],
   "source": [
    "from sklearn.metrics import classification_report, confusion_matrix\n",
    "import scikitplot as skplt\n",
    "from matplotlib.colors import ListedColormap"
   ]
  },
  {
   "cell_type": "code",
   "execution_count": 4,
   "id": "e28bc1ff",
   "metadata": {},
   "outputs": [],
   "source": [
    "#import previous data csv & check\n",
    "data = pd.read_csv(\"data.csv\", index_col=[0])"
   ]
  },
  {
   "cell_type": "code",
   "execution_count": 5,
   "id": "e8c8c02f",
   "metadata": {},
   "outputs": [
    {
     "data": {
      "text/html": [
       "<div>\n",
       "<style scoped>\n",
       "    .dataframe tbody tr th:only-of-type {\n",
       "        vertical-align: middle;\n",
       "    }\n",
       "\n",
       "    .dataframe tbody tr th {\n",
       "        vertical-align: top;\n",
       "    }\n",
       "\n",
       "    .dataframe thead th {\n",
       "        text-align: right;\n",
       "    }\n",
       "</style>\n",
       "<table border=\"1\" class=\"dataframe\">\n",
       "  <thead>\n",
       "    <tr style=\"text-align: right;\">\n",
       "      <th></th>\n",
       "      <th>title</th>\n",
       "      <th>company</th>\n",
       "      <th>location</th>\n",
       "      <th>summary</th>\n",
       "      <th>mean_salary</th>\n",
       "    </tr>\n",
       "  </thead>\n",
       "  <tbody>\n",
       "    <tr>\n",
       "      <th>0</th>\n",
       "      <td>lead data scientist (technical lead and team l...</td>\n",
       "      <td>Home Office</td>\n",
       "      <td>Sheffield</td>\n",
       "      <td>ideally you will have a background in working ...</td>\n",
       "      <td>57613.0</td>\n",
       "    </tr>\n",
       "    <tr>\n",
       "      <th>1</th>\n",
       "      <td>data scientist</td>\n",
       "      <td>Lumilinks</td>\n",
       "      <td>United Kingdom•Remote</td>\n",
       "      <td>the science team at lumilinks is led by dr. ti...</td>\n",
       "      <td>37500.0</td>\n",
       "    </tr>\n",
       "    <tr>\n",
       "      <th>2</th>\n",
       "      <td>text analyst / data scientist</td>\n",
       "      <td>Health &amp; Safety Executive</td>\n",
       "      <td>Sheffield•Remote</td>\n",
       "      <td>previous experience as a text analyst, data sc...</td>\n",
       "      <td>42599.5</td>\n",
       "    </tr>\n",
       "    <tr>\n",
       "      <th>3</th>\n",
       "      <td>research associate in developing data-analytic...</td>\n",
       "      <td>University of Sheffield</td>\n",
       "      <td>Sheffield</td>\n",
       "      <td>insight from data generated in experiments and...</td>\n",
       "      <td>36635.5</td>\n",
       "    </tr>\n",
       "    <tr>\n",
       "      <th>4</th>\n",
       "      <td>research associate in machine learning for med...</td>\n",
       "      <td>University of Sheffield</td>\n",
       "      <td>Sheffield</td>\n",
       "      <td>learning software tool on our large-scale card...</td>\n",
       "      <td>36635.5</td>\n",
       "    </tr>\n",
       "  </tbody>\n",
       "</table>\n",
       "</div>"
      ],
      "text/plain": [
       "                                               title  \\\n",
       "0  lead data scientist (technical lead and team l...   \n",
       "1                                     data scientist   \n",
       "2                      text analyst / data scientist   \n",
       "3  research associate in developing data-analytic...   \n",
       "4  research associate in machine learning for med...   \n",
       "\n",
       "                     company               location  \\\n",
       "0                Home Office              Sheffield   \n",
       "1                  Lumilinks  United Kingdom•Remote   \n",
       "2  Health & Safety Executive       Sheffield•Remote   \n",
       "3    University of Sheffield              Sheffield   \n",
       "4    University of Sheffield              Sheffield   \n",
       "\n",
       "                                             summary  mean_salary  \n",
       "0  ideally you will have a background in working ...      57613.0  \n",
       "1  the science team at lumilinks is led by dr. ti...      37500.0  \n",
       "2  previous experience as a text analyst, data sc...      42599.5  \n",
       "3  insight from data generated in experiments and...      36635.5  \n",
       "4  learning software tool on our large-scale card...      36635.5  "
      ]
     },
     "execution_count": 5,
     "metadata": {},
     "output_type": "execute_result"
    }
   ],
   "source": [
    "data.head()"
   ]
  },
  {
   "cell_type": "code",
   "execution_count": 6,
   "id": "3cf78105",
   "metadata": {},
   "outputs": [
    {
     "data": {
      "text/plain": [
       "count      1246.000000\n",
       "mean      45752.645265\n",
       "std       19605.665278\n",
       "min       12500.000000\n",
       "25%       32500.000000\n",
       "50%       42500.000000\n",
       "75%       55000.000000\n",
       "max      150000.000000\n",
       "Name: mean_salary, dtype: float64"
      ]
     },
     "execution_count": 6,
     "metadata": {},
     "output_type": "execute_result"
    }
   ],
   "source": [
    "#understand the mean salary dataset better \n",
    "data['mean_salary'].describe()"
   ]
  },
  {
   "cell_type": "code",
   "execution_count": 7,
   "id": "48c9c1f1",
   "metadata": {},
   "outputs": [
    {
     "name": "stderr",
     "output_type": "stream",
     "text": [
      "/Users/terri/opt/anaconda3/lib/python3.8/site-packages/seaborn/distributions.py:2557: FutureWarning: `distplot` is a deprecated function and will be removed in a future version. Please adapt your code to use either `displot` (a figure-level function with similar flexibility) or `histplot` (an axes-level function for histograms).\n",
      "  warnings.warn(msg, FutureWarning)\n"
     ]
    },
    {
     "data": {
      "image/png": "[encoded data removed]",
      "text/plain": [
       "<Figure size 432x288 with 1 Axes>"
      ]
     },
     "metadata": {
      "image/png": {
       "height": 277,
       "width": 385
      },
      "needs_background": "light"
     },
     "output_type": "display_data"
    }
   ],
   "source": [
    "#plot the frequency of the mean salaries\n",
    "sns.distplot(data[\"mean_salary\"])\n",
    "plt.title(\"Frequency of Mean Salaries\")\n",
    "plt.axvline(data[\"mean_salary\"].mean(), color='r', linestyle='dashed', linewidth=1)\n",
    "plt.axvline(data[\"mean_salary\"].median(), color='black', linestyle='dashed', linewidth=1)\n",
    "plt.show()"
   ]
  },
  {
   "cell_type": "code",
   "execution_count": 8,
   "id": "2b6a6b70",
   "metadata": {},
   "outputs": [],
   "source": [
    "#define mean salary high vs low - I am just using the median here. \n",
    "median = data['mean_salary'].median()"
   ]
  },
  {
   "cell_type": "code",
   "execution_count": 9,
   "id": "de2534a1",
   "metadata": {},
   "outputs": [],
   "source": [
    "def salary_class (x, median=median):\n",
    "    if x > median:\n",
    "        return 'high salary'\n",
    "    else:\n",
    "        return 'low salary'"
   ]
  },
  {
   "cell_type": "code",
   "execution_count": 10,
   "id": "b02b60b1",
   "metadata": {},
   "outputs": [],
   "source": [
    "#put this into the dataframe\n",
    "data['salary'] = data['mean_salary'].apply(salary_class)"
   ]
  },
  {
   "cell_type": "code",
   "execution_count": 11,
   "id": "bf148bd7",
   "metadata": {},
   "outputs": [
    {
     "data": {
      "text/html": [
       "<div>\n",
       "<style scoped>\n",
       "    .dataframe tbody tr th:only-of-type {\n",
       "        vertical-align: middle;\n",
       "    }\n",
       "\n",
       "    .dataframe tbody tr th {\n",
       "        vertical-align: top;\n",
       "    }\n",
       "\n",
       "    .dataframe thead th {\n",
       "        text-align: right;\n",
       "    }\n",
       "</style>\n",
       "<table border=\"1\" class=\"dataframe\">\n",
       "  <thead>\n",
       "    <tr style=\"text-align: right;\">\n",
       "      <th></th>\n",
       "      <th>title</th>\n",
       "      <th>company</th>\n",
       "      <th>location</th>\n",
       "      <th>summary</th>\n",
       "      <th>mean_salary</th>\n",
       "      <th>salary</th>\n",
       "    </tr>\n",
       "  </thead>\n",
       "  <tbody>\n",
       "    <tr>\n",
       "      <th>0</th>\n",
       "      <td>lead data scientist (technical lead and team l...</td>\n",
       "      <td>Home Office</td>\n",
       "      <td>Sheffield</td>\n",
       "      <td>ideally you will have a background in working ...</td>\n",
       "      <td>57613.0</td>\n",
       "      <td>high salary</td>\n",
       "    </tr>\n",
       "    <tr>\n",
       "      <th>1</th>\n",
       "      <td>data scientist</td>\n",
       "      <td>Lumilinks</td>\n",
       "      <td>United Kingdom•Remote</td>\n",
       "      <td>the science team at lumilinks is led by dr. ti...</td>\n",
       "      <td>37500.0</td>\n",
       "      <td>low salary</td>\n",
       "    </tr>\n",
       "    <tr>\n",
       "      <th>2</th>\n",
       "      <td>text analyst / data scientist</td>\n",
       "      <td>Health &amp; Safety Executive</td>\n",
       "      <td>Sheffield•Remote</td>\n",
       "      <td>previous experience as a text analyst, data sc...</td>\n",
       "      <td>42599.5</td>\n",
       "      <td>high salary</td>\n",
       "    </tr>\n",
       "    <tr>\n",
       "      <th>3</th>\n",
       "      <td>research associate in developing data-analytic...</td>\n",
       "      <td>University of Sheffield</td>\n",
       "      <td>Sheffield</td>\n",
       "      <td>insight from data generated in experiments and...</td>\n",
       "      <td>36635.5</td>\n",
       "      <td>low salary</td>\n",
       "    </tr>\n",
       "    <tr>\n",
       "      <th>4</th>\n",
       "      <td>research associate in machine learning for med...</td>\n",
       "      <td>University of Sheffield</td>\n",
       "      <td>Sheffield</td>\n",
       "      <td>learning software tool on our large-scale card...</td>\n",
       "      <td>36635.5</td>\n",
       "      <td>low salary</td>\n",
       "    </tr>\n",
       "    <tr>\n",
       "      <th>...</th>\n",
       "      <td>...</td>\n",
       "      <td>...</td>\n",
       "      <td>...</td>\n",
       "      <td>...</td>\n",
       "      <td>...</td>\n",
       "      <td>...</td>\n",
       "    </tr>\n",
       "    <tr>\n",
       "      <th>560</th>\n",
       "      <td>marketing insight analyst</td>\n",
       "      <td>Harnham</td>\n",
       "      <td>Nottingham</td>\n",
       "      <td>both own and promote campaign data visualizati...</td>\n",
       "      <td>45000.0</td>\n",
       "      <td>high salary</td>\n",
       "    </tr>\n",
       "    <tr>\n",
       "      <th>562</th>\n",
       "      <td>test analyst (business process testing)</td>\n",
       "      <td>Momentum Security Recruitment</td>\n",
       "      <td>Nottingham+2 locations•Remote</td>\n",
       "      <td>understanding of data creation and manipulatio...</td>\n",
       "      <td>26000.0</td>\n",
       "      <td>low salary</td>\n",
       "    </tr>\n",
       "    <tr>\n",
       "      <th>569</th>\n",
       "      <td>business test analyst</td>\n",
       "      <td>Momentum Security Recruitment</td>\n",
       "      <td>Nottingham•Remote</td>\n",
       "      <td>understanding of data creation and manipulatio...</td>\n",
       "      <td>25000.0</td>\n",
       "      <td>low salary</td>\n",
       "    </tr>\n",
       "    <tr>\n",
       "      <th>570</th>\n",
       "      <td>etl focused data analyst - triple growth busin...</td>\n",
       "      <td>Interface Recruitment</td>\n",
       "      <td>Nottingham</td>\n",
       "      <td>extract and transform data from our bespoke er...</td>\n",
       "      <td>32000.0</td>\n",
       "      <td>low salary</td>\n",
       "    </tr>\n",
       "    <tr>\n",
       "      <th>624</th>\n",
       "      <td>digital business analyst</td>\n",
       "      <td>Rise Technical Recruitment Limited</td>\n",
       "      <td>Nottingham•Temporarily Remote</td>\n",
       "      <td>assist in the analysis of performance data to ...</td>\n",
       "      <td>37500.0</td>\n",
       "      <td>low salary</td>\n",
       "    </tr>\n",
       "  </tbody>\n",
       "</table>\n",
       "<p>1246 rows × 6 columns</p>\n",
       "</div>"
      ],
      "text/plain": [
       "                                                 title  \\\n",
       "0    lead data scientist (technical lead and team l...   \n",
       "1                                       data scientist   \n",
       "2                        text analyst / data scientist   \n",
       "3    research associate in developing data-analytic...   \n",
       "4    research associate in machine learning for med...   \n",
       "..                                                 ...   \n",
       "560                          marketing insight analyst   \n",
       "562            test analyst (business process testing)   \n",
       "569                              business test analyst   \n",
       "570  etl focused data analyst - triple growth busin...   \n",
       "624                           digital business analyst   \n",
       "\n",
       "                                company                       location  \\\n",
       "0                           Home Office                      Sheffield   \n",
       "1                             Lumilinks          United Kingdom•Remote   \n",
       "2             Health & Safety Executive               Sheffield•Remote   \n",
       "3               University of Sheffield                      Sheffield   \n",
       "4               University of Sheffield                      Sheffield   \n",
       "..                                  ...                            ...   \n",
       "560                             Harnham                     Nottingham   \n",
       "562       Momentum Security Recruitment  Nottingham+2 locations•Remote   \n",
       "569       Momentum Security Recruitment              Nottingham•Remote   \n",
       "570               Interface Recruitment                     Nottingham   \n",
       "624  Rise Technical Recruitment Limited  Nottingham•Temporarily Remote   \n",
       "\n",
       "                                               summary  mean_salary  \\\n",
       "0    ideally you will have a background in working ...      57613.0   \n",
       "1    the science team at lumilinks is led by dr. ti...      37500.0   \n",
       "2    previous experience as a text analyst, data sc...      42599.5   \n",
       "3    insight from data generated in experiments and...      36635.5   \n",
       "4    learning software tool on our large-scale card...      36635.5   \n",
       "..                                                 ...          ...   \n",
       "560  both own and promote campaign data visualizati...      45000.0   \n",
       "562  understanding of data creation and manipulatio...      26000.0   \n",
       "569  understanding of data creation and manipulatio...      25000.0   \n",
       "570  extract and transform data from our bespoke er...      32000.0   \n",
       "624  assist in the analysis of performance data to ...      37500.0   \n",
       "\n",
       "          salary  \n",
       "0    high salary  \n",
       "1     low salary  \n",
       "2    high salary  \n",
       "3     low salary  \n",
       "4     low salary  \n",
       "..           ...  \n",
       "560  high salary  \n",
       "562   low salary  \n",
       "569   low salary  \n",
       "570   low salary  \n",
       "624   low salary  \n",
       "\n",
       "[1246 rows x 6 columns]"
      ]
     },
     "execution_count": 11,
     "metadata": {},
     "output_type": "execute_result"
    }
   ],
   "source": [
    "data"
   ]
  },
  {
   "cell_type": "code",
   "execution_count": 12,
   "id": "035fa907",
   "metadata": {},
   "outputs": [
    {
     "data": {
      "text/plain": [
       "low salary     659\n",
       "high salary    587\n",
       "Name: salary, dtype: int64"
      ]
     },
     "execution_count": 12,
     "metadata": {},
     "output_type": "execute_result"
    }
   ],
   "source": [
    "# how many values are in each category?\n",
    "data['salary'].value_counts()\n"
   ]
  },
  {
   "cell_type": "code",
   "execution_count": 13,
   "id": "290e4fcc",
   "metadata": {},
   "outputs": [
    {
     "data": {
      "text/plain": [
       "52.89"
      ]
     },
     "execution_count": 13,
     "metadata": {},
     "output_type": "execute_result"
    }
   ],
   "source": [
    "#what is our baseline accuracy?\n",
    "round((data[(data['salary'] == 'low salary')].shape[0] / data.shape[0]) * 100, 2)"
   ]
  },
  {
   "cell_type": "code",
   "execution_count": 14,
   "id": "c74f802d",
   "metadata": {},
   "outputs": [],
   "source": [
    "#Create custom dummies from location column\n",
    "London = data['location'].apply(lambda x: 1 if 'london' in x or 'London' in x else 0)\n",
    "Birmingham = data['location'].apply(lambda x: 1 if 'Birmingham' in x or 'birmingham' in x else 0)\n",
    "Bristol = data['location'].apply(lambda x: 1 if 'Bristol' in x or 'bristol' in x else 0)\n",
    "Glasgow = data['location'].apply(lambda x: 1 if 'glasgow' in x or 'Glasgow' in x else 0)\n",
    "Edinburgh = data['location'].apply(lambda x: 1 if 'edinburgh' in x or 'Edinburgh' in x else 0)\n",
    "Manchester = data['location'].apply(lambda x: 1 if 'manchester' in x or 'Manchester' in x else 0)\n",
    "Leeds = data['location'].apply(lambda x: 1 if 'Leeds' in x or 'leeds' in x else 0)\n",
    "Cardiff = data['location'].apply(lambda x: 1 if 'Cardiff' in x or 'cardiff' in x else 0)\n",
    "Nottingham = data['location'].apply(lambda x: 1 if 'nottingham' in x or 'Nottingham' in x else 0)\n",
    "Newcastle = data['location'].apply(lambda x: 1 if 'newcastle' in x or 'Newcastle' in x else 0)\n",
    "Belfast = data['location'].apply(lambda x: 1 if 'Belfast' in x or 'belfast' in x else 0)\n",
    "Sheffield = data['location'].apply(lambda x: 1 if 'sheffield' in x or 'Sheffield' in x else 0)\n",
    "Southampton = data['location'].apply(lambda x: 1 if 'southampton' in x or 'Southampton' in x else 0)"
   ]
  },
  {
   "cell_type": "code",
   "execution_count": 15,
   "id": "0e90d9ef",
   "metadata": {},
   "outputs": [
    {
     "name": "stdout",
     "output_type": "stream",
     "text": [
      "(1246, 13)\n"
     ]
    },
    {
     "data": {
      "text/html": [
       "<div>\n",
       "<style scoped>\n",
       "    .dataframe tbody tr th:only-of-type {\n",
       "        vertical-align: middle;\n",
       "    }\n",
       "\n",
       "    .dataframe tbody tr th {\n",
       "        vertical-align: top;\n",
       "    }\n",
       "\n",
       "    .dataframe thead th {\n",
       "        text-align: right;\n",
       "    }\n",
       "</style>\n",
       "<table border=\"1\" class=\"dataframe\">\n",
       "  <thead>\n",
       "    <tr style=\"text-align: right;\">\n",
       "      <th></th>\n",
       "      <th>London</th>\n",
       "      <th>Birmingham</th>\n",
       "      <th>Bristol</th>\n",
       "      <th>Glasgow</th>\n",
       "      <th>Edinburgh</th>\n",
       "      <th>Manchester</th>\n",
       "      <th>Leeds</th>\n",
       "      <th>Cardiff</th>\n",
       "      <th>Nottingham</th>\n",
       "      <th>Newcastle</th>\n",
       "      <th>Belfast</th>\n",
       "      <th>Sheffield</th>\n",
       "      <th>Southampton</th>\n",
       "    </tr>\n",
       "  </thead>\n",
       "  <tbody>\n",
       "    <tr>\n",
       "      <th>0</th>\n",
       "      <td>0</td>\n",
       "      <td>0</td>\n",
       "      <td>0</td>\n",
       "      <td>0</td>\n",
       "      <td>0</td>\n",
       "      <td>0</td>\n",
       "      <td>0</td>\n",
       "      <td>0</td>\n",
       "      <td>0</td>\n",
       "      <td>0</td>\n",
       "      <td>0</td>\n",
       "      <td>1</td>\n",
       "      <td>0</td>\n",
       "    </tr>\n",
       "    <tr>\n",
       "      <th>1</th>\n",
       "      <td>0</td>\n",
       "      <td>0</td>\n",
       "      <td>0</td>\n",
       "      <td>0</td>\n",
       "      <td>0</td>\n",
       "      <td>0</td>\n",
       "      <td>0</td>\n",
       "      <td>0</td>\n",
       "      <td>0</td>\n",
       "      <td>0</td>\n",
       "      <td>0</td>\n",
       "      <td>0</td>\n",
       "      <td>0</td>\n",
       "    </tr>\n",
       "    <tr>\n",
       "      <th>2</th>\n",
       "      <td>0</td>\n",
       "      <td>0</td>\n",
       "      <td>0</td>\n",
       "      <td>0</td>\n",
       "      <td>0</td>\n",
       "      <td>0</td>\n",
       "      <td>0</td>\n",
       "      <td>0</td>\n",
       "      <td>0</td>\n",
       "      <td>0</td>\n",
       "      <td>0</td>\n",
       "      <td>1</td>\n",
       "      <td>0</td>\n",
       "    </tr>\n",
       "    <tr>\n",
       "      <th>3</th>\n",
       "      <td>0</td>\n",
       "      <td>0</td>\n",
       "      <td>0</td>\n",
       "      <td>0</td>\n",
       "      <td>0</td>\n",
       "      <td>0</td>\n",
       "      <td>0</td>\n",
       "      <td>0</td>\n",
       "      <td>0</td>\n",
       "      <td>0</td>\n",
       "      <td>0</td>\n",
       "      <td>1</td>\n",
       "      <td>0</td>\n",
       "    </tr>\n",
       "    <tr>\n",
       "      <th>4</th>\n",
       "      <td>0</td>\n",
       "      <td>0</td>\n",
       "      <td>0</td>\n",
       "      <td>0</td>\n",
       "      <td>0</td>\n",
       "      <td>0</td>\n",
       "      <td>0</td>\n",
       "      <td>0</td>\n",
       "      <td>0</td>\n",
       "      <td>0</td>\n",
       "      <td>0</td>\n",
       "      <td>1</td>\n",
       "      <td>0</td>\n",
       "    </tr>\n",
       "  </tbody>\n",
       "</table>\n",
       "</div>"
      ],
      "text/plain": [
       "   London  Birmingham  Bristol  Glasgow  Edinburgh  Manchester  Leeds  \\\n",
       "0       0           0        0        0          0           0      0   \n",
       "1       0           0        0        0          0           0      0   \n",
       "2       0           0        0        0          0           0      0   \n",
       "3       0           0        0        0          0           0      0   \n",
       "4       0           0        0        0          0           0      0   \n",
       "\n",
       "   Cardiff  Nottingham  Newcastle  Belfast  Sheffield  Southampton  \n",
       "0        0           0          0        0          1            0  \n",
       "1        0           0          0        0          0            0  \n",
       "2        0           0          0        0          1            0  \n",
       "3        0           0          0        0          1            0  \n",
       "4        0           0          0        0          1            0  "
      ]
     },
     "execution_count": 15,
     "metadata": {},
     "output_type": "execute_result"
    }
   ],
   "source": [
    "# Create column from custom dummies from title column\n",
    "locations = pd.DataFrame({'London': London, 'Birmingham': Birmingham, 'Bristol': Bristol, 'Glasgow': Glasgow,\n",
    "                         'Edinburgh': Edinburgh, 'Manchester': Manchester, 'Leeds': Leeds, 'Cardiff': Cardiff,\n",
    "                         'Nottingham': Nottingham, 'Newcastle': Newcastle, 'Belfast': Belfast, 'Sheffield': Sheffield,\n",
    "                         'Southampton': Southampton})\n",
    "\n",
    "# Print created dataframe shape and head\n",
    "print(locations.shape)\n",
    "locations.head()"
   ]
  },
  {
   "cell_type": "code",
   "execution_count": 16,
   "id": "61e83d27",
   "metadata": {},
   "outputs": [
    {
     "data": {
      "text/html": [
       "<div>\n",
       "<style scoped>\n",
       "    .dataframe tbody tr th:only-of-type {\n",
       "        vertical-align: middle;\n",
       "    }\n",
       "\n",
       "    .dataframe tbody tr th {\n",
       "        vertical-align: top;\n",
       "    }\n",
       "\n",
       "    .dataframe thead th {\n",
       "        text-align: right;\n",
       "    }\n",
       "</style>\n",
       "<table border=\"1\" class=\"dataframe\">\n",
       "  <thead>\n",
       "    <tr style=\"text-align: right;\">\n",
       "      <th></th>\n",
       "      <th>London</th>\n",
       "      <th>Birmingham</th>\n",
       "      <th>Bristol</th>\n",
       "      <th>Glasgow</th>\n",
       "      <th>Edinburgh</th>\n",
       "      <th>Manchester</th>\n",
       "      <th>Leeds</th>\n",
       "      <th>Cardiff</th>\n",
       "      <th>Nottingham</th>\n",
       "      <th>Newcastle</th>\n",
       "      <th>Belfast</th>\n",
       "      <th>Sheffield</th>\n",
       "      <th>Southampton</th>\n",
       "      <th>title</th>\n",
       "      <th>company</th>\n",
       "      <th>location</th>\n",
       "      <th>summary</th>\n",
       "      <th>mean_salary</th>\n",
       "      <th>salary</th>\n",
       "    </tr>\n",
       "  </thead>\n",
       "  <tbody>\n",
       "    <tr>\n",
       "      <th>0</th>\n",
       "      <td>0</td>\n",
       "      <td>0</td>\n",
       "      <td>0</td>\n",
       "      <td>0</td>\n",
       "      <td>0</td>\n",
       "      <td>0</td>\n",
       "      <td>0</td>\n",
       "      <td>0</td>\n",
       "      <td>0</td>\n",
       "      <td>0</td>\n",
       "      <td>0</td>\n",
       "      <td>1</td>\n",
       "      <td>0</td>\n",
       "      <td>lead data scientist (technical lead and team l...</td>\n",
       "      <td>Home Office</td>\n",
       "      <td>Sheffield</td>\n",
       "      <td>ideally you will have a background in working ...</td>\n",
       "      <td>57613.0</td>\n",
       "      <td>high salary</td>\n",
       "    </tr>\n",
       "    <tr>\n",
       "      <th>1</th>\n",
       "      <td>0</td>\n",
       "      <td>0</td>\n",
       "      <td>0</td>\n",
       "      <td>0</td>\n",
       "      <td>0</td>\n",
       "      <td>0</td>\n",
       "      <td>0</td>\n",
       "      <td>0</td>\n",
       "      <td>0</td>\n",
       "      <td>0</td>\n",
       "      <td>0</td>\n",
       "      <td>0</td>\n",
       "      <td>0</td>\n",
       "      <td>data scientist</td>\n",
       "      <td>Lumilinks</td>\n",
       "      <td>United Kingdom•Remote</td>\n",
       "      <td>the science team at lumilinks is led by dr. ti...</td>\n",
       "      <td>37500.0</td>\n",
       "      <td>low salary</td>\n",
       "    </tr>\n",
       "    <tr>\n",
       "      <th>2</th>\n",
       "      <td>0</td>\n",
       "      <td>0</td>\n",
       "      <td>0</td>\n",
       "      <td>0</td>\n",
       "      <td>0</td>\n",
       "      <td>0</td>\n",
       "      <td>0</td>\n",
       "      <td>0</td>\n",
       "      <td>0</td>\n",
       "      <td>0</td>\n",
       "      <td>0</td>\n",
       "      <td>1</td>\n",
       "      <td>0</td>\n",
       "      <td>text analyst / data scientist</td>\n",
       "      <td>Health &amp; Safety Executive</td>\n",
       "      <td>Sheffield•Remote</td>\n",
       "      <td>previous experience as a text analyst, data sc...</td>\n",
       "      <td>42599.5</td>\n",
       "      <td>high salary</td>\n",
       "    </tr>\n",
       "    <tr>\n",
       "      <th>3</th>\n",
       "      <td>0</td>\n",
       "      <td>0</td>\n",
       "      <td>0</td>\n",
       "      <td>0</td>\n",
       "      <td>0</td>\n",
       "      <td>0</td>\n",
       "      <td>0</td>\n",
       "      <td>0</td>\n",
       "      <td>0</td>\n",
       "      <td>0</td>\n",
       "      <td>0</td>\n",
       "      <td>1</td>\n",
       "      <td>0</td>\n",
       "      <td>research associate in developing data-analytic...</td>\n",
       "      <td>University of Sheffield</td>\n",
       "      <td>Sheffield</td>\n",
       "      <td>insight from data generated in experiments and...</td>\n",
       "      <td>36635.5</td>\n",
       "      <td>low salary</td>\n",
       "    </tr>\n",
       "    <tr>\n",
       "      <th>4</th>\n",
       "      <td>0</td>\n",
       "      <td>0</td>\n",
       "      <td>0</td>\n",
       "      <td>0</td>\n",
       "      <td>0</td>\n",
       "      <td>0</td>\n",
       "      <td>0</td>\n",
       "      <td>0</td>\n",
       "      <td>0</td>\n",
       "      <td>0</td>\n",
       "      <td>0</td>\n",
       "      <td>1</td>\n",
       "      <td>0</td>\n",
       "      <td>research associate in machine learning for med...</td>\n",
       "      <td>University of Sheffield</td>\n",
       "      <td>Sheffield</td>\n",
       "      <td>learning software tool on our large-scale card...</td>\n",
       "      <td>36635.5</td>\n",
       "      <td>low salary</td>\n",
       "    </tr>\n",
       "    <tr>\n",
       "      <th>...</th>\n",
       "      <td>...</td>\n",
       "      <td>...</td>\n",
       "      <td>...</td>\n",
       "      <td>...</td>\n",
       "      <td>...</td>\n",
       "      <td>...</td>\n",
       "      <td>...</td>\n",
       "      <td>...</td>\n",
       "      <td>...</td>\n",
       "      <td>...</td>\n",
       "      <td>...</td>\n",
       "      <td>...</td>\n",
       "      <td>...</td>\n",
       "      <td>...</td>\n",
       "      <td>...</td>\n",
       "      <td>...</td>\n",
       "      <td>...</td>\n",
       "      <td>...</td>\n",
       "      <td>...</td>\n",
       "    </tr>\n",
       "    <tr>\n",
       "      <th>560</th>\n",
       "      <td>0</td>\n",
       "      <td>0</td>\n",
       "      <td>0</td>\n",
       "      <td>0</td>\n",
       "      <td>0</td>\n",
       "      <td>0</td>\n",
       "      <td>0</td>\n",
       "      <td>0</td>\n",
       "      <td>1</td>\n",
       "      <td>0</td>\n",
       "      <td>0</td>\n",
       "      <td>0</td>\n",
       "      <td>0</td>\n",
       "      <td>marketing insight analyst</td>\n",
       "      <td>Harnham</td>\n",
       "      <td>Nottingham</td>\n",
       "      <td>both own and promote campaign data visualizati...</td>\n",
       "      <td>45000.0</td>\n",
       "      <td>high salary</td>\n",
       "    </tr>\n",
       "    <tr>\n",
       "      <th>562</th>\n",
       "      <td>0</td>\n",
       "      <td>0</td>\n",
       "      <td>0</td>\n",
       "      <td>0</td>\n",
       "      <td>0</td>\n",
       "      <td>0</td>\n",
       "      <td>0</td>\n",
       "      <td>0</td>\n",
       "      <td>1</td>\n",
       "      <td>0</td>\n",
       "      <td>0</td>\n",
       "      <td>0</td>\n",
       "      <td>0</td>\n",
       "      <td>test analyst (business process testing)</td>\n",
       "      <td>Momentum Security Recruitment</td>\n",
       "      <td>Nottingham+2 locations•Remote</td>\n",
       "      <td>understanding of data creation and manipulatio...</td>\n",
       "      <td>26000.0</td>\n",
       "      <td>low salary</td>\n",
       "    </tr>\n",
       "    <tr>\n",
       "      <th>569</th>\n",
       "      <td>0</td>\n",
       "      <td>0</td>\n",
       "      <td>0</td>\n",
       "      <td>0</td>\n",
       "      <td>0</td>\n",
       "      <td>0</td>\n",
       "      <td>0</td>\n",
       "      <td>0</td>\n",
       "      <td>1</td>\n",
       "      <td>0</td>\n",
       "      <td>0</td>\n",
       "      <td>0</td>\n",
       "      <td>0</td>\n",
       "      <td>business test analyst</td>\n",
       "      <td>Momentum Security Recruitment</td>\n",
       "      <td>Nottingham•Remote</td>\n",
       "      <td>understanding of data creation and manipulatio...</td>\n",
       "      <td>25000.0</td>\n",
       "      <td>low salary</td>\n",
       "    </tr>\n",
       "    <tr>\n",
       "      <th>570</th>\n",
       "      <td>0</td>\n",
       "      <td>0</td>\n",
       "      <td>0</td>\n",
       "      <td>0</td>\n",
       "      <td>0</td>\n",
       "      <td>0</td>\n",
       "      <td>0</td>\n",
       "      <td>0</td>\n",
       "      <td>1</td>\n",
       "      <td>0</td>\n",
       "      <td>0</td>\n",
       "      <td>0</td>\n",
       "      <td>0</td>\n",
       "      <td>etl focused data analyst - triple growth busin...</td>\n",
       "      <td>Interface Recruitment</td>\n",
       "      <td>Nottingham</td>\n",
       "      <td>extract and transform data from our bespoke er...</td>\n",
       "      <td>32000.0</td>\n",
       "      <td>low salary</td>\n",
       "    </tr>\n",
       "    <tr>\n",
       "      <th>624</th>\n",
       "      <td>0</td>\n",
       "      <td>0</td>\n",
       "      <td>0</td>\n",
       "      <td>0</td>\n",
       "      <td>0</td>\n",
       "      <td>0</td>\n",
       "      <td>0</td>\n",
       "      <td>0</td>\n",
       "      <td>1</td>\n",
       "      <td>0</td>\n",
       "      <td>0</td>\n",
       "      <td>0</td>\n",
       "      <td>0</td>\n",
       "      <td>digital business analyst</td>\n",
       "      <td>Rise Technical Recruitment Limited</td>\n",
       "      <td>Nottingham•Temporarily Remote</td>\n",
       "      <td>assist in the analysis of performance data to ...</td>\n",
       "      <td>37500.0</td>\n",
       "      <td>low salary</td>\n",
       "    </tr>\n",
       "  </tbody>\n",
       "</table>\n",
       "<p>1246 rows × 19 columns</p>\n",
       "</div>"
      ],
      "text/plain": [
       "     London  Birmingham  Bristol  Glasgow  Edinburgh  Manchester  Leeds  \\\n",
       "0         0           0        0        0          0           0      0   \n",
       "1         0           0        0        0          0           0      0   \n",
       "2         0           0        0        0          0           0      0   \n",
       "3         0           0        0        0          0           0      0   \n",
       "4         0           0        0        0          0           0      0   \n",
       "..      ...         ...      ...      ...        ...         ...    ...   \n",
       "560       0           0        0        0          0           0      0   \n",
       "562       0           0        0        0          0           0      0   \n",
       "569       0           0        0        0          0           0      0   \n",
       "570       0           0        0        0          0           0      0   \n",
       "624       0           0        0        0          0           0      0   \n",
       "\n",
       "     Cardiff  Nottingham  Newcastle  Belfast  Sheffield  Southampton  \\\n",
       "0          0           0          0        0          1            0   \n",
       "1          0           0          0        0          0            0   \n",
       "2          0           0          0        0          1            0   \n",
       "3          0           0          0        0          1            0   \n",
       "4          0           0          0        0          1            0   \n",
       "..       ...         ...        ...      ...        ...          ...   \n",
       "560        0           1          0        0          0            0   \n",
       "562        0           1          0        0          0            0   \n",
       "569        0           1          0        0          0            0   \n",
       "570        0           1          0        0          0            0   \n",
       "624        0           1          0        0          0            0   \n",
       "\n",
       "                                                 title  \\\n",
       "0    lead data scientist (technical lead and team l...   \n",
       "1                                       data scientist   \n",
       "2                        text analyst / data scientist   \n",
       "3    research associate in developing data-analytic...   \n",
       "4    research associate in machine learning for med...   \n",
       "..                                                 ...   \n",
       "560                          marketing insight analyst   \n",
       "562            test analyst (business process testing)   \n",
       "569                              business test analyst   \n",
       "570  etl focused data analyst - triple growth busin...   \n",
       "624                           digital business analyst   \n",
       "\n",
       "                                company                       location  \\\n",
       "0                           Home Office                      Sheffield   \n",
       "1                             Lumilinks          United Kingdom•Remote   \n",
       "2             Health & Safety Executive               Sheffield•Remote   \n",
       "3               University of Sheffield                      Sheffield   \n",
       "4               University of Sheffield                      Sheffield   \n",
       "..                                  ...                            ...   \n",
       "560                             Harnham                     Nottingham   \n",
       "562       Momentum Security Recruitment  Nottingham+2 locations•Remote   \n",
       "569       Momentum Security Recruitment              Nottingham•Remote   \n",
       "570               Interface Recruitment                     Nottingham   \n",
       "624  Rise Technical Recruitment Limited  Nottingham•Temporarily Remote   \n",
       "\n",
       "                                               summary  mean_salary  \\\n",
       "0    ideally you will have a background in working ...      57613.0   \n",
       "1    the science team at lumilinks is led by dr. ti...      37500.0   \n",
       "2    previous experience as a text analyst, data sc...      42599.5   \n",
       "3    insight from data generated in experiments and...      36635.5   \n",
       "4    learning software tool on our large-scale card...      36635.5   \n",
       "..                                                 ...          ...   \n",
       "560  both own and promote campaign data visualizati...      45000.0   \n",
       "562  understanding of data creation and manipulatio...      26000.0   \n",
       "569  understanding of data creation and manipulatio...      25000.0   \n",
       "570  extract and transform data from our bespoke er...      32000.0   \n",
       "624  assist in the analysis of performance data to ...      37500.0   \n",
       "\n",
       "          salary  \n",
       "0    high salary  \n",
       "1     low salary  \n",
       "2    high salary  \n",
       "3     low salary  \n",
       "4     low salary  \n",
       "..           ...  \n",
       "560  high salary  \n",
       "562   low salary  \n",
       "569   low salary  \n",
       "570   low salary  \n",
       "624   low salary  \n",
       "\n",
       "[1246 rows x 19 columns]"
      ]
     },
     "execution_count": 16,
     "metadata": {},
     "output_type": "execute_result"
    }
   ],
   "source": [
    "#put the dataframes together\n",
    "salaryxlocation = pd.concat([locations, data], axis=1)\n",
    "salaryxlocation"
   ]
  },
  {
   "cell_type": "markdown",
   "id": "17a24ce2",
   "metadata": {},
   "source": [
    "# 3. Modelling"
   ]
  },
  {
   "cell_type": "code",
   "execution_count": 17,
   "id": "4e07b14f",
   "metadata": {},
   "outputs": [],
   "source": [
    "#create target and feature variables\n",
    "#first using location as the feature variable\n",
    "X = salaryxlocation[['London', 'Birmingham', 'Bristol', 'Glasgow', 'Edinburgh', \n",
    "                     'Manchester', 'Leeds', 'Cardiff', 'Nottingham', 'Newcastle',\n",
    "                     'Belfast', 'Sheffield', 'Southampton']]\n",
    "y = salaryxlocation['salary']"
   ]
  },
  {
   "cell_type": "code",
   "execution_count": 18,
   "id": "092beda8",
   "metadata": {},
   "outputs": [],
   "source": [
    "#train test split\n",
    "X_train, X_test, y_train, y_test = train_test_split(X, y,\n",
    "                        stratify=y, test_size=0.2, random_state=1)"
   ]
  },
  {
   "cell_type": "code",
   "execution_count": 19,
   "id": "70a4ae8f",
   "metadata": {},
   "outputs": [],
   "source": [
    "#scale the data\n",
    "scaler = StandardScaler()\n",
    "\n",
    "X_train = scaler.fit_transform(X_train)\n",
    "X_test = scaler.transform(X_test)\n",
    "\n",
    "X_train = pd.DataFrame(X_train, columns=X.columns)\n",
    "X_test = pd.DataFrame(X_test, columns=X.columns)"
   ]
  },
  {
   "cell_type": "markdown",
   "id": "fdbd109f",
   "metadata": {},
   "source": [
    "### 3.1 Logistic Regression"
   ]
  },
  {
   "cell_type": "code",
   "execution_count": 24,
   "id": "be2b5d92",
   "metadata": {},
   "outputs": [],
   "source": [
    "model = LogisticRegression(solver='liblinear', multi_class='ovr')"
   ]
  },
  {
   "cell_type": "code",
   "execution_count": 25,
   "id": "800ed5cc",
   "metadata": {},
   "outputs": [],
   "source": [
    "#set up parameters for a grid search on logistic regression to find the best parameters\n",
    "params = {'C': np.logspace(-5, 5, 15),\n",
    "          'penalty': ['l1', 'l2'],\n",
    "          'fit_intercept': [True, False]}"
   ]
  },
  {
   "cell_type": "code",
   "execution_count": 26,
   "id": "03965bda",
   "metadata": {},
   "outputs": [],
   "source": [
    "#set up the gridsearch\n",
    "gs = GridSearchCV(estimator=model,\n",
    "                  param_grid=params,\n",
    "                  cv=5,\n",
    "                  scoring='accuracy',\n",
    "                  return_train_score=True)"
   ]
  },
  {
   "cell_type": "code",
   "execution_count": 27,
   "id": "277ffb44",
   "metadata": {},
   "outputs": [
    {
     "data": {
      "text/plain": [
       "GridSearchCV(cv=5,\n",
       "             estimator=LogisticRegression(multi_class='ovr',\n",
       "                                          solver='liblinear'),\n",
       "             param_grid={'C': array([1.00000000e-05, 5.17947468e-05, 2.68269580e-04, 1.38949549e-03,\n",
       "       7.19685673e-03, 3.72759372e-02, 1.93069773e-01, 1.00000000e+00,\n",
       "       5.17947468e+00, 2.68269580e+01, 1.38949549e+02, 7.19685673e+02,\n",
       "       3.72759372e+03, 1.93069773e+04, 1.00000000e+05]),\n",
       "                         'fit_intercept': [True, False],\n",
       "                         'penalty': ['l1', 'l2']},\n",
       "             return_train_score=True, scoring='accuracy')"
      ]
     },
     "execution_count": 27,
     "metadata": {},
     "output_type": "execute_result"
    }
   ],
   "source": [
    "#fit the model\n",
    "gs.fit(X_train, y_train)"
   ]
  },
  {
   "cell_type": "code",
   "execution_count": 28,
   "id": "a1f4dfa2",
   "metadata": {
    "scrolled": false
   },
   "outputs": [
    {
     "name": "stdout",
     "output_type": "stream",
     "text": [
      "Best Parameters:\n",
      "{'C': 0.19306977288832497, 'fit_intercept': True, 'penalty': 'l1'}\n",
      "Best estimator C:\n",
      "0.19306977288832497\n",
      "Best estimator mean cross validated training score:\n",
      "0.607462311557789\n",
      "Best estimator score on the full training set:\n",
      "0.6114457831325302\n",
      "Best estimator score on the test set:\n",
      "0.568\n",
      "Best estimator coefficients:\n",
      "[[-0.40058517 -0.28192731 -0.10495674  0.         -0.04657692  0.01521999\n",
      "   0.01377922 -0.00455897  0.02652888 -0.06164761  0.01797716 -0.00257198\n",
      "  -0.14309787]]\n"
     ]
    }
   ],
   "source": [
    "#find the best result from logistic regression\n",
    "\n",
    "print('Best Parameters:')\n",
    "print(gs.best_params_)\n",
    "print('Best estimator C:')\n",
    "print(gs.best_estimator_.C)\n",
    "print('Best estimator mean cross validated training score:')\n",
    "print(gs.best_score_)\n",
    "print('Best estimator score on the full training set:')\n",
    "print(gs.score(X_train, y_train))\n",
    "print('Best estimator score on the test set:')\n",
    "print(gs.score(X_test, y_test))\n",
    "print('Best estimator coefficients:')\n",
    "print(gs.best_estimator_.coef_)"
   ]
  },
  {
   "cell_type": "markdown",
   "id": "ba123f0b",
   "metadata": {},
   "source": [
    "The mean cross validated training score is 60.75 which is better than our baseline accuracy of 52.89. "
   ]
  },
  {
   "cell_type": "code",
   "execution_count": 29,
   "id": "e632e24a",
   "metadata": {},
   "outputs": [],
   "source": [
    "#get the predictions for the training and test data\n",
    "predictions_train = gs.predict(X_train)\n",
    "predictions_test = gs.predict(X_test)"
   ]
  },
  {
   "cell_type": "code",
   "execution_count": 30,
   "id": "1ccee4a6",
   "metadata": {},
   "outputs": [
    {
     "name": "stdout",
     "output_type": "stream",
     "text": [
      "              precision    recall  f1-score   support\n",
      "\n",
      " high salary       0.59      0.57      0.58       469\n",
      "  low salary       0.63      0.65      0.64       527\n",
      "\n",
      "    accuracy                           0.61       996\n",
      "   macro avg       0.61      0.61      0.61       996\n",
      "weighted avg       0.61      0.61      0.61       996\n",
      "\n"
     ]
    }
   ],
   "source": [
    "#our classification report for the training set\n",
    "print(classification_report(y_train, predictions_train))"
   ]
  },
  {
   "cell_type": "code",
   "execution_count": 31,
   "id": "97bd0fac",
   "metadata": {},
   "outputs": [
    {
     "name": "stdout",
     "output_type": "stream",
     "text": [
      "              precision    recall  f1-score   support\n",
      "\n",
      " high salary       0.54      0.59      0.56       118\n",
      "  low salary       0.60      0.55      0.57       132\n",
      "\n",
      "    accuracy                           0.57       250\n",
      "   macro avg       0.57      0.57      0.57       250\n",
      "weighted avg       0.57      0.57      0.57       250\n",
      "\n"
     ]
    }
   ],
   "source": [
    "#our classification report for the test set\n",
    "print(classification_report(y_test, predictions_test))"
   ]
  },
  {
   "cell_type": "code",
   "execution_count": 32,
   "id": "14013767",
   "metadata": {},
   "outputs": [
    {
     "name": "stdout",
     "output_type": "stream",
     "text": [
      "[[70 48]\n",
      " [60 72]]\n"
     ]
    }
   ],
   "source": [
    "print(confusion_matrix(y_test, predictions_test, labels=['high salary','low salary']))"
   ]
  },
  {
   "cell_type": "markdown",
   "id": "a5198338",
   "metadata": {},
   "source": [
    "### 3.2 Decision Tree Classifier"
   ]
  },
  {
   "cell_type": "code",
   "execution_count": 33,
   "id": "fa07db8d",
   "metadata": {},
   "outputs": [],
   "source": [
    "#using grid search to find the best decision tree classifier\n",
    "# gridsearch params\n",
    "dtc_params = {\n",
    "    'max_depth': list(range(1, 11))+[None],\n",
    "    'max_features': [None, 1, 2, 3],\n",
    "    'min_samples_split': [2, 3, 4, 5, 10, 15, 20, 25, 30, 40, 50],\n",
    "    'ccp_alpha': [0, 0.001, 0.005, 0.01]\n",
    "}\n",
    "\n",
    "# set the gridsearch\n",
    "model = DecisionTreeClassifier()\n",
    "dtc_gs = GridSearchCV(model, dtc_params, cv=5, verbose=1)"
   ]
  },
  {
   "cell_type": "code",
   "execution_count": 37,
   "id": "61e4584c",
   "metadata": {},
   "outputs": [
    {
     "name": "stdout",
     "output_type": "stream",
     "text": [
      "Fitting 5 folds for each of 1936 candidates, totalling 9680 fits\n",
      "{'ccp_alpha': 0.001, 'max_depth': 10, 'max_features': 3, 'min_samples_split': 10}\n",
      "0.6104572864321609\n"
     ]
    }
   ],
   "source": [
    "# use the gridearch model to fit the data\n",
    "dtc_gs.fit(X_train, y_train)\n",
    "dtc_best = dtc_gs.best_estimator_\n",
    "print(dtc_gs.best_params_)\n",
    "print(dtc_gs.best_score_)"
   ]
  },
  {
   "cell_type": "markdown",
   "id": "f3909a47",
   "metadata": {},
   "source": [
    "With the decision tree classifier we return the best score of 61.05 \n",
    "which is better than our baseline accuracy of 52.89 and our logistic regression model."
   ]
  },
  {
   "cell_type": "code",
   "execution_count": 38,
   "id": "0a289d75",
   "metadata": {},
   "outputs": [
    {
     "data": {
      "text/html": [
       "<div>\n",
       "<style scoped>\n",
       "    .dataframe tbody tr th:only-of-type {\n",
       "        vertical-align: middle;\n",
       "    }\n",
       "\n",
       "    .dataframe tbody tr th {\n",
       "        vertical-align: top;\n",
       "    }\n",
       "\n",
       "    .dataframe thead th {\n",
       "        text-align: right;\n",
       "    }\n",
       "</style>\n",
       "<table border=\"1\" class=\"dataframe\">\n",
       "  <thead>\n",
       "    <tr style=\"text-align: right;\">\n",
       "      <th></th>\n",
       "      <th>feature</th>\n",
       "      <th>importance</th>\n",
       "    </tr>\n",
       "  </thead>\n",
       "  <tbody>\n",
       "    <tr>\n",
       "      <th>0</th>\n",
       "      <td>London</td>\n",
       "      <td>0.375636</td>\n",
       "    </tr>\n",
       "    <tr>\n",
       "      <th>1</th>\n",
       "      <td>Birmingham</td>\n",
       "      <td>0.327557</td>\n",
       "    </tr>\n",
       "    <tr>\n",
       "      <th>5</th>\n",
       "      <td>Manchester</td>\n",
       "      <td>0.186156</td>\n",
       "    </tr>\n",
       "    <tr>\n",
       "      <th>12</th>\n",
       "      <td>Southampton</td>\n",
       "      <td>0.110650</td>\n",
       "    </tr>\n",
       "    <tr>\n",
       "      <th>2</th>\n",
       "      <td>Bristol</td>\n",
       "      <td>0.000000</td>\n",
       "    </tr>\n",
       "    <tr>\n",
       "      <th>3</th>\n",
       "      <td>Glasgow</td>\n",
       "      <td>0.000000</td>\n",
       "    </tr>\n",
       "    <tr>\n",
       "      <th>4</th>\n",
       "      <td>Edinburgh</td>\n",
       "      <td>0.000000</td>\n",
       "    </tr>\n",
       "    <tr>\n",
       "      <th>6</th>\n",
       "      <td>Leeds</td>\n",
       "      <td>0.000000</td>\n",
       "    </tr>\n",
       "    <tr>\n",
       "      <th>7</th>\n",
       "      <td>Cardiff</td>\n",
       "      <td>0.000000</td>\n",
       "    </tr>\n",
       "    <tr>\n",
       "      <th>8</th>\n",
       "      <td>Nottingham</td>\n",
       "      <td>0.000000</td>\n",
       "    </tr>\n",
       "    <tr>\n",
       "      <th>9</th>\n",
       "      <td>Newcastle</td>\n",
       "      <td>0.000000</td>\n",
       "    </tr>\n",
       "    <tr>\n",
       "      <th>10</th>\n",
       "      <td>Belfast</td>\n",
       "      <td>0.000000</td>\n",
       "    </tr>\n",
       "    <tr>\n",
       "      <th>11</th>\n",
       "      <td>Sheffield</td>\n",
       "      <td>0.000000</td>\n",
       "    </tr>\n",
       "  </tbody>\n",
       "</table>\n",
       "</div>"
      ],
      "text/plain": [
       "        feature  importance\n",
       "0        London    0.375636\n",
       "1    Birmingham    0.327557\n",
       "5    Manchester    0.186156\n",
       "12  Southampton    0.110650\n",
       "2       Bristol    0.000000\n",
       "3       Glasgow    0.000000\n",
       "4     Edinburgh    0.000000\n",
       "6         Leeds    0.000000\n",
       "7       Cardiff    0.000000\n",
       "8    Nottingham    0.000000\n",
       "9     Newcastle    0.000000\n",
       "10      Belfast    0.000000\n",
       "11    Sheffield    0.000000"
      ]
     },
     "execution_count": 38,
     "metadata": {},
     "output_type": "execute_result"
    }
   ],
   "source": [
    "fi = pd.DataFrame({\n",
    "    'feature': X.columns,\n",
    "    'importance': dtc_best.feature_importances_\n",
    "})\n",
    "\n",
    "fi.sort_values('importance', ascending=False, inplace=True)\n",
    "fi"
   ]
  },
  {
   "cell_type": "code",
   "execution_count": 39,
   "id": "b793f502",
   "metadata": {},
   "outputs": [
    {
     "data": {
      "text/plain": [
       "[Text(0, 0, 'London'),\n",
       " Text(1, 0, 'Birmingham'),\n",
       " Text(2, 0, 'Manchester'),\n",
       " Text(3, 0, 'Southampton'),\n",
       " Text(4, 0, 'Bristol'),\n",
       " Text(5, 0, 'Glasgow'),\n",
       " Text(6, 0, 'Edinburgh'),\n",
       " Text(7, 0, 'Leeds'),\n",
       " Text(8, 0, 'Cardiff'),\n",
       " Text(9, 0, 'Nottingham'),\n",
       " Text(10, 0, 'Newcastle'),\n",
       " Text(11, 0, 'Belfast'),\n",
       " Text(12, 0, 'Sheffield')]"
      ]
     },
     "execution_count": 39,
     "metadata": {},
     "output_type": "execute_result"
    },
    {
     "data": {
      "image/png": "[encoded data removed]",
      "text/plain": [
       "<Figure size 1152x432 with 1 Axes>"
      ]
     },
     "metadata": {
      "image/png": {
       "height": 407,
       "width": 949
      },
      "needs_background": "light"
     },
     "output_type": "display_data"
    }
   ],
   "source": [
    "#graph the most important features\n",
    "#as we can see - London followed by Manchester, Nottingham, Belfast and Glasgow have the greatest effect on whether a salary is deemed to be high or low. \n",
    "import matplotlib.pyplot as plt\n",
    "import seaborn as sns\n",
    "\n",
    "plt.figure().set_size_inches(16, 6)\n",
    "fg = sns.barplot(x='feature', y='importance',data=fi, palette=\"Blues_d\")\n",
    "fg.set_xticklabels(rotation=35, labels=fi.feature)"
   ]
  },
  {
   "cell_type": "markdown",
   "id": "54ba1dbe",
   "metadata": {},
   "source": [
    "### 3.3 Logistic regression on more features"
   ]
  },
  {
   "cell_type": "code",
   "execution_count": 40,
   "id": "ffd08444",
   "metadata": {},
   "outputs": [],
   "source": [
    "#Create custom dummies from title column including features that may be of interest to us and may affect whether a salary is deemed high or low\n",
    "senior = data['title'].apply(lambda x: 1 if 'senior' in x or 'Senior' in x else 0)\n",
    "lead = data['title'].apply(lambda x: 1 if 'lead' in x or 'Lead' in x else 0)\n",
    "research = data['title'].apply(lambda x: 1 if 'research' in x or 'Research' in x else 0)\n",
    "lecturer = data['title'].apply(lambda x: 1 if 'lecturer' in x or 'Lecturer' in x else 0)\n",
    "head = data['title'].apply(lambda x: 1 if 'head' in x or 'Head' in x else 0)\n",
    "manager = data['title'].apply(lambda x: 1 if 'manager' in x or 'Manager' in x else 0)\n",
    "consultant = data['title'].apply(lambda x: 1 if 'consultant' in x or 'Consultant' in x else 0)\n",
    "specialist = data['title'].apply(lambda x: 1 if 'specialist' in x or 'Specialist' in x else 0)\n",
    "graduate = data['title'].apply(lambda x: 1 if 'graduate' in x or 'Graduate' in x else 0)\n",
    "intern = data['title'].apply(lambda x: 1 if 'intern' in x or 'Intern' in x else 0)\n",
    "junior = data['title'].apply(lambda x: 1 if 'junior' in x or 'Junior' in x else 0)\n",
    "analyst = data['title'].apply(lambda x: 1 if 'analyst' in x or 'Analyst' in x else 0)\n",
    "scientist = data['title'].apply(lambda x: 1 if 'scientist' in x or 'Scientist' in x else 0)"
   ]
  },
  {
   "cell_type": "code",
   "execution_count": 41,
   "id": "3eac6f40",
   "metadata": {},
   "outputs": [],
   "source": [
    "# Create column from custom dummies from title column\n",
    "titles = pd.DataFrame({'senior': senior, 'lead': lead, 'research': research, 'lecturer': lecturer,\n",
    "                         'head': head, 'manager': manager, 'consultant': consultant, 'specialist': specialist,\n",
    "                         'graduate': graduate, 'intern': intern, 'junior': junior, 'analyst':analyst, 'scientist':scientist})"
   ]
  },
  {
   "cell_type": "code",
   "execution_count": 42,
   "id": "3dbf8124",
   "metadata": {},
   "outputs": [
    {
     "data": {
      "text/html": [
       "<div>\n",
       "<style scoped>\n",
       "    .dataframe tbody tr th:only-of-type {\n",
       "        vertical-align: middle;\n",
       "    }\n",
       "\n",
       "    .dataframe tbody tr th {\n",
       "        vertical-align: top;\n",
       "    }\n",
       "\n",
       "    .dataframe thead th {\n",
       "        text-align: right;\n",
       "    }\n",
       "</style>\n",
       "<table border=\"1\" class=\"dataframe\">\n",
       "  <thead>\n",
       "    <tr style=\"text-align: right;\">\n",
       "      <th></th>\n",
       "      <th>London</th>\n",
       "      <th>Birmingham</th>\n",
       "      <th>Bristol</th>\n",
       "      <th>Glasgow</th>\n",
       "      <th>Edinburgh</th>\n",
       "      <th>Manchester</th>\n",
       "      <th>Leeds</th>\n",
       "      <th>Cardiff</th>\n",
       "      <th>Nottingham</th>\n",
       "      <th>Newcastle</th>\n",
       "      <th>...</th>\n",
       "      <th>lecturer</th>\n",
       "      <th>head</th>\n",
       "      <th>manager</th>\n",
       "      <th>consultant</th>\n",
       "      <th>specialist</th>\n",
       "      <th>graduate</th>\n",
       "      <th>intern</th>\n",
       "      <th>junior</th>\n",
       "      <th>analyst</th>\n",
       "      <th>scientist</th>\n",
       "    </tr>\n",
       "  </thead>\n",
       "  <tbody>\n",
       "    <tr>\n",
       "      <th>0</th>\n",
       "      <td>0</td>\n",
       "      <td>0</td>\n",
       "      <td>0</td>\n",
       "      <td>0</td>\n",
       "      <td>0</td>\n",
       "      <td>0</td>\n",
       "      <td>0</td>\n",
       "      <td>0</td>\n",
       "      <td>0</td>\n",
       "      <td>0</td>\n",
       "      <td>...</td>\n",
       "      <td>0</td>\n",
       "      <td>0</td>\n",
       "      <td>0</td>\n",
       "      <td>0</td>\n",
       "      <td>0</td>\n",
       "      <td>0</td>\n",
       "      <td>0</td>\n",
       "      <td>0</td>\n",
       "      <td>0</td>\n",
       "      <td>1</td>\n",
       "    </tr>\n",
       "    <tr>\n",
       "      <th>1</th>\n",
       "      <td>0</td>\n",
       "      <td>0</td>\n",
       "      <td>0</td>\n",
       "      <td>0</td>\n",
       "      <td>0</td>\n",
       "      <td>0</td>\n",
       "      <td>0</td>\n",
       "      <td>0</td>\n",
       "      <td>0</td>\n",
       "      <td>0</td>\n",
       "      <td>...</td>\n",
       "      <td>0</td>\n",
       "      <td>0</td>\n",
       "      <td>0</td>\n",
       "      <td>0</td>\n",
       "      <td>0</td>\n",
       "      <td>0</td>\n",
       "      <td>0</td>\n",
       "      <td>0</td>\n",
       "      <td>0</td>\n",
       "      <td>1</td>\n",
       "    </tr>\n",
       "    <tr>\n",
       "      <th>2</th>\n",
       "      <td>0</td>\n",
       "      <td>0</td>\n",
       "      <td>0</td>\n",
       "      <td>0</td>\n",
       "      <td>0</td>\n",
       "      <td>0</td>\n",
       "      <td>0</td>\n",
       "      <td>0</td>\n",
       "      <td>0</td>\n",
       "      <td>0</td>\n",
       "      <td>...</td>\n",
       "      <td>0</td>\n",
       "      <td>0</td>\n",
       "      <td>0</td>\n",
       "      <td>0</td>\n",
       "      <td>0</td>\n",
       "      <td>0</td>\n",
       "      <td>0</td>\n",
       "      <td>0</td>\n",
       "      <td>1</td>\n",
       "      <td>1</td>\n",
       "    </tr>\n",
       "    <tr>\n",
       "      <th>3</th>\n",
       "      <td>0</td>\n",
       "      <td>0</td>\n",
       "      <td>0</td>\n",
       "      <td>0</td>\n",
       "      <td>0</td>\n",
       "      <td>0</td>\n",
       "      <td>0</td>\n",
       "      <td>0</td>\n",
       "      <td>0</td>\n",
       "      <td>0</td>\n",
       "      <td>...</td>\n",
       "      <td>0</td>\n",
       "      <td>0</td>\n",
       "      <td>0</td>\n",
       "      <td>0</td>\n",
       "      <td>0</td>\n",
       "      <td>0</td>\n",
       "      <td>0</td>\n",
       "      <td>0</td>\n",
       "      <td>0</td>\n",
       "      <td>0</td>\n",
       "    </tr>\n",
       "    <tr>\n",
       "      <th>4</th>\n",
       "      <td>0</td>\n",
       "      <td>0</td>\n",
       "      <td>0</td>\n",
       "      <td>0</td>\n",
       "      <td>0</td>\n",
       "      <td>0</td>\n",
       "      <td>0</td>\n",
       "      <td>0</td>\n",
       "      <td>0</td>\n",
       "      <td>0</td>\n",
       "      <td>...</td>\n",
       "      <td>0</td>\n",
       "      <td>0</td>\n",
       "      <td>0</td>\n",
       "      <td>0</td>\n",
       "      <td>0</td>\n",
       "      <td>0</td>\n",
       "      <td>0</td>\n",
       "      <td>0</td>\n",
       "      <td>0</td>\n",
       "      <td>0</td>\n",
       "    </tr>\n",
       "    <tr>\n",
       "      <th>...</th>\n",
       "      <td>...</td>\n",
       "      <td>...</td>\n",
       "      <td>...</td>\n",
       "      <td>...</td>\n",
       "      <td>...</td>\n",
       "      <td>...</td>\n",
       "      <td>...</td>\n",
       "      <td>...</td>\n",
       "      <td>...</td>\n",
       "      <td>...</td>\n",
       "      <td>...</td>\n",
       "      <td>...</td>\n",
       "      <td>...</td>\n",
       "      <td>...</td>\n",
       "      <td>...</td>\n",
       "      <td>...</td>\n",
       "      <td>...</td>\n",
       "      <td>...</td>\n",
       "      <td>...</td>\n",
       "      <td>...</td>\n",
       "      <td>...</td>\n",
       "    </tr>\n",
       "    <tr>\n",
       "      <th>560</th>\n",
       "      <td>0</td>\n",
       "      <td>0</td>\n",
       "      <td>0</td>\n",
       "      <td>0</td>\n",
       "      <td>0</td>\n",
       "      <td>0</td>\n",
       "      <td>0</td>\n",
       "      <td>0</td>\n",
       "      <td>1</td>\n",
       "      <td>0</td>\n",
       "      <td>...</td>\n",
       "      <td>0</td>\n",
       "      <td>0</td>\n",
       "      <td>0</td>\n",
       "      <td>0</td>\n",
       "      <td>0</td>\n",
       "      <td>0</td>\n",
       "      <td>0</td>\n",
       "      <td>0</td>\n",
       "      <td>1</td>\n",
       "      <td>0</td>\n",
       "    </tr>\n",
       "    <tr>\n",
       "      <th>562</th>\n",
       "      <td>0</td>\n",
       "      <td>0</td>\n",
       "      <td>0</td>\n",
       "      <td>0</td>\n",
       "      <td>0</td>\n",
       "      <td>0</td>\n",
       "      <td>0</td>\n",
       "      <td>0</td>\n",
       "      <td>1</td>\n",
       "      <td>0</td>\n",
       "      <td>...</td>\n",
       "      <td>0</td>\n",
       "      <td>0</td>\n",
       "      <td>0</td>\n",
       "      <td>0</td>\n",
       "      <td>0</td>\n",
       "      <td>0</td>\n",
       "      <td>0</td>\n",
       "      <td>0</td>\n",
       "      <td>1</td>\n",
       "      <td>0</td>\n",
       "    </tr>\n",
       "    <tr>\n",
       "      <th>569</th>\n",
       "      <td>0</td>\n",
       "      <td>0</td>\n",
       "      <td>0</td>\n",
       "      <td>0</td>\n",
       "      <td>0</td>\n",
       "      <td>0</td>\n",
       "      <td>0</td>\n",
       "      <td>0</td>\n",
       "      <td>1</td>\n",
       "      <td>0</td>\n",
       "      <td>...</td>\n",
       "      <td>0</td>\n",
       "      <td>0</td>\n",
       "      <td>0</td>\n",
       "      <td>0</td>\n",
       "      <td>0</td>\n",
       "      <td>0</td>\n",
       "      <td>0</td>\n",
       "      <td>0</td>\n",
       "      <td>1</td>\n",
       "      <td>0</td>\n",
       "    </tr>\n",
       "    <tr>\n",
       "      <th>570</th>\n",
       "      <td>0</td>\n",
       "      <td>0</td>\n",
       "      <td>0</td>\n",
       "      <td>0</td>\n",
       "      <td>0</td>\n",
       "      <td>0</td>\n",
       "      <td>0</td>\n",
       "      <td>0</td>\n",
       "      <td>1</td>\n",
       "      <td>0</td>\n",
       "      <td>...</td>\n",
       "      <td>0</td>\n",
       "      <td>0</td>\n",
       "      <td>0</td>\n",
       "      <td>0</td>\n",
       "      <td>0</td>\n",
       "      <td>0</td>\n",
       "      <td>0</td>\n",
       "      <td>0</td>\n",
       "      <td>1</td>\n",
       "      <td>0</td>\n",
       "    </tr>\n",
       "    <tr>\n",
       "      <th>624</th>\n",
       "      <td>0</td>\n",
       "      <td>0</td>\n",
       "      <td>0</td>\n",
       "      <td>0</td>\n",
       "      <td>0</td>\n",
       "      <td>0</td>\n",
       "      <td>0</td>\n",
       "      <td>0</td>\n",
       "      <td>1</td>\n",
       "      <td>0</td>\n",
       "      <td>...</td>\n",
       "      <td>0</td>\n",
       "      <td>0</td>\n",
       "      <td>0</td>\n",
       "      <td>0</td>\n",
       "      <td>0</td>\n",
       "      <td>0</td>\n",
       "      <td>0</td>\n",
       "      <td>0</td>\n",
       "      <td>1</td>\n",
       "      <td>0</td>\n",
       "    </tr>\n",
       "  </tbody>\n",
       "</table>\n",
       "<p>1246 rows × 38 columns</p>\n",
       "</div>"
      ],
      "text/plain": [
       "     London  Birmingham  Bristol  Glasgow  Edinburgh  Manchester  Leeds  \\\n",
       "0         0           0        0        0          0           0      0   \n",
       "1         0           0        0        0          0           0      0   \n",
       "2         0           0        0        0          0           0      0   \n",
       "3         0           0        0        0          0           0      0   \n",
       "4         0           0        0        0          0           0      0   \n",
       "..      ...         ...      ...      ...        ...         ...    ...   \n",
       "560       0           0        0        0          0           0      0   \n",
       "562       0           0        0        0          0           0      0   \n",
       "569       0           0        0        0          0           0      0   \n",
       "570       0           0        0        0          0           0      0   \n",
       "624       0           0        0        0          0           0      0   \n",
       "\n",
       "     Cardiff  Nottingham  Newcastle  ...  lecturer  head  manager consultant  \\\n",
       "0          0           0          0  ...         0     0        0          0   \n",
       "1          0           0          0  ...         0     0        0          0   \n",
       "2          0           0          0  ...         0     0        0          0   \n",
       "3          0           0          0  ...         0     0        0          0   \n",
       "4          0           0          0  ...         0     0        0          0   \n",
       "..       ...         ...        ...  ...       ...   ...      ...        ...   \n",
       "560        0           1          0  ...         0     0        0          0   \n",
       "562        0           1          0  ...         0     0        0          0   \n",
       "569        0           1          0  ...         0     0        0          0   \n",
       "570        0           1          0  ...         0     0        0          0   \n",
       "624        0           1          0  ...         0     0        0          0   \n",
       "\n",
       "    specialist graduate intern  junior analyst scientist  \n",
       "0            0        0      0       0       0         1  \n",
       "1            0        0      0       0       0         1  \n",
       "2            0        0      0       0       1         1  \n",
       "3            0        0      0       0       0         0  \n",
       "4            0        0      0       0       0         0  \n",
       "..         ...      ...    ...     ...     ...       ...  \n",
       "560          0        0      0       0       1         0  \n",
       "562          0        0      0       0       1         0  \n",
       "569          0        0      0       0       1         0  \n",
       "570          0        0      0       0       1         0  \n",
       "624          0        0      0       0       1         0  \n",
       "\n",
       "[1246 rows x 38 columns]"
      ]
     },
     "execution_count": 42,
     "metadata": {},
     "output_type": "execute_result"
    }
   ],
   "source": [
    "#concat the data\n",
    "salaryxtitles = pd.concat([salaryxlocation, data, titles], axis=1)\n",
    "salaryxtitles"
   ]
  },
  {
   "cell_type": "code",
   "execution_count": 43,
   "id": "d3043b28",
   "metadata": {},
   "outputs": [
    {
     "data": {
      "text/plain": [
       "['London',\n",
       " 'Birmingham',\n",
       " 'Bristol',\n",
       " 'Glasgow',\n",
       " 'Edinburgh',\n",
       " 'Manchester',\n",
       " 'Leeds',\n",
       " 'Cardiff',\n",
       " 'Nottingham',\n",
       " 'Newcastle',\n",
       " 'Belfast',\n",
       " 'Sheffield',\n",
       " 'Southampton',\n",
       " 'title',\n",
       " 'company',\n",
       " 'location',\n",
       " 'summary',\n",
       " 'mean_salary',\n",
       " 'salary',\n",
       " 'title',\n",
       " 'company',\n",
       " 'location',\n",
       " 'summary',\n",
       " 'mean_salary',\n",
       " 'salary',\n",
       " 'senior',\n",
       " 'lead',\n",
       " 'research',\n",
       " 'lecturer',\n",
       " 'head',\n",
       " 'manager',\n",
       " 'consultant',\n",
       " 'specialist',\n",
       " 'graduate',\n",
       " 'intern',\n",
       " 'junior',\n",
       " 'analyst',\n",
       " 'scientist']"
      ]
     },
     "execution_count": 43,
     "metadata": {},
     "output_type": "execute_result"
    }
   ],
   "source": [
    "list(salaryxtitles.columns)"
   ]
  },
  {
   "cell_type": "code",
   "execution_count": 44,
   "id": "0a8aad69",
   "metadata": {},
   "outputs": [],
   "source": [
    "#delete any rows that are duplicated \n",
    "salaryxtitles = salaryxtitles.loc[:,~salaryxtitles.columns.duplicated()]"
   ]
  },
  {
   "cell_type": "code",
   "execution_count": 45,
   "id": "d6920f79",
   "metadata": {},
   "outputs": [
    {
     "data": {
      "text/plain": [
       "['London',\n",
       " 'Birmingham',\n",
       " 'Bristol',\n",
       " 'Glasgow',\n",
       " 'Edinburgh',\n",
       " 'Manchester',\n",
       " 'Leeds',\n",
       " 'Cardiff',\n",
       " 'Nottingham',\n",
       " 'Newcastle',\n",
       " 'Belfast',\n",
       " 'Sheffield',\n",
       " 'Southampton',\n",
       " 'title',\n",
       " 'company',\n",
       " 'location',\n",
       " 'summary',\n",
       " 'mean_salary',\n",
       " 'salary',\n",
       " 'senior',\n",
       " 'lead',\n",
       " 'research',\n",
       " 'lecturer',\n",
       " 'head',\n",
       " 'manager',\n",
       " 'consultant',\n",
       " 'specialist',\n",
       " 'graduate',\n",
       " 'intern',\n",
       " 'junior',\n",
       " 'analyst',\n",
       " 'scientist']"
      ]
     },
     "execution_count": 45,
     "metadata": {},
     "output_type": "execute_result"
    }
   ],
   "source": [
    "#check the titles of the rows. \n",
    "list(salaryxtitles.columns)"
   ]
  },
  {
   "cell_type": "code",
   "execution_count": 46,
   "id": "9294cad1",
   "metadata": {},
   "outputs": [],
   "source": [
    "#create new target and feature variables\n",
    "Xv = salaryxtitles[['London', 'Birmingham', 'Bristol', 'Glasgow', 'Edinburgh', \n",
    "                     'Manchester', 'Leeds', 'Cardiff', 'Nottingham', 'Newcastle',\n",
    "                     'Belfast', 'Sheffield', 'Southampton', 'senior', 'lead', 'research', 'lecturer',\n",
    "                         'head', 'manager', 'consultant', 'specialist',\n",
    "                         'graduate', 'intern', 'junior', 'analyst', 'scientist']]\n",
    "yv = salaryxtitles['salary']"
   ]
  },
  {
   "cell_type": "code",
   "execution_count": 47,
   "id": "349be0bd",
   "metadata": {},
   "outputs": [],
   "source": [
    "#train test split\n",
    "Xv_train, Xv_test, yv_train, yv_test = train_test_split(Xv, yv,\n",
    "                        stratify=y, test_size=0.2, random_state=1)"
   ]
  },
  {
   "cell_type": "code",
   "execution_count": 48,
   "id": "5269f7c5",
   "metadata": {},
   "outputs": [],
   "source": [
    "#scale the data\n",
    "scaler = StandardScaler()\n",
    "\n",
    "Xv_train = scaler.fit_transform(Xv_train)\n",
    "Xv_test = scaler.transform(Xv_test)\n",
    "\n",
    "Xv_train = pd.DataFrame(Xv_train, columns=Xv.columns)\n",
    "Xv_test = pd.DataFrame(Xv_test, columns=Xv.columns)"
   ]
  },
  {
   "cell_type": "code",
   "execution_count": 49,
   "id": "a5822ee0",
   "metadata": {},
   "outputs": [],
   "source": [
    "#firstly use a grid search to find the best Logistic Regression model\n",
    "modelv = LogisticRegression(solver='liblinear', multi_class='ovr')"
   ]
  },
  {
   "cell_type": "code",
   "execution_count": 50,
   "id": "fb24d8fb",
   "metadata": {},
   "outputs": [],
   "source": [
    "#set the parameters\n",
    "paramsv = {'C': np.linspace(0.1,12,1000),\n",
    "          'penalty': ['l1', 'l2']}"
   ]
  },
  {
   "cell_type": "code",
   "execution_count": 51,
   "id": "d3eaf324",
   "metadata": {},
   "outputs": [
    {
     "name": "stdout",
     "output_type": "stream",
     "text": [
      "Fitting 5 folds for each of 2000 candidates, totalling 10000 fits\n"
     ]
    },
    {
     "data": {
      "text/plain": [
       "GridSearchCV(cv=5,\n",
       "             estimator=LogisticRegression(multi_class='ovr',\n",
       "                                          solver='liblinear'),\n",
       "             param_grid={'C': array([ 0.1       ,  0.11191191,  0.12382382,  0.13573574,  0.14764765,\n",
       "        0.15955956,  0.17147147,  0.18338338,  0.1952953 ,  0.20720721,\n",
       "        0.21911912,  0.23103103,  0.24294294,  0.25485485,  0.26676677,\n",
       "        0.27867868,  0.29059059,  0.3025025 ,  0.31441441,  0.32632633,\n",
       "        0.33823824,  0.35015015,  0.3620620...\n",
       "       11.65455455, 11.66646647, 11.67837838, 11.69029029, 11.7022022 ,\n",
       "       11.71411411, 11.72602603, 11.73793794, 11.74984985, 11.76176176,\n",
       "       11.77367367, 11.78558559, 11.7974975 , 11.80940941, 11.82132132,\n",
       "       11.83323323, 11.84514515, 11.85705706, 11.86896897, 11.88088088,\n",
       "       11.89279279, 11.9047047 , 11.91661662, 11.92852853, 11.94044044,\n",
       "       11.95235235, 11.96426426, 11.97617618, 11.98808809, 12.        ]),\n",
       "                         'penalty': ['l1', 'l2']},\n",
       "             return_train_score=True, verbose=1)"
      ]
     },
     "execution_count": 51,
     "metadata": {},
     "output_type": "execute_result"
    }
   ],
   "source": [
    "gsv = GridSearchCV(modelv, \n",
    "                    param_grid = paramsv, \n",
    "                    verbose=1,  \n",
    "                    cv=5,\n",
    "                    return_train_score=True)\n",
    "                                \n",
    "gsv.fit(Xv_train, yv_train)"
   ]
  },
  {
   "cell_type": "code",
   "execution_count": 52,
   "id": "3d7cb40f",
   "metadata": {},
   "outputs": [
    {
     "name": "stdout",
     "output_type": "stream",
     "text": [
      "Best Parameters:\n",
      "{'C': 0.4335335335335335, 'penalty': 'l1'}\n",
      "Best estimator C:\n",
      "0.4335335335335335\n",
      "Best estimator mean cross validated training score:\n",
      "0.7540251256281407\n",
      "Best estimator score on the full training set:\n",
      "0.7690763052208835\n",
      "Best estimator score on the test set:\n",
      "0.74\n",
      "Best estimator coefficients:\n",
      "[[-0.49400283 -0.30099832 -0.10977693  0.08362086 -0.03241633 -0.04331336\n",
      "   0.02210769 -0.04661822 -0.03308159 -0.00379008  0.11488451 -0.01977259\n",
      "  -0.19173873 -0.45970515 -0.24314276  0.49676355 -0.37596232 -0.34454564\n",
      "  -0.24641835 -0.01275913 -0.35006152  0.48076943  0.05376979  0.26106398\n",
      "   0.89723636 -0.0568517 ]]\n"
     ]
    }
   ],
   "source": [
    "# and find the best results based on the best grid search parameters\n",
    "print('Best Parameters:')\n",
    "print(gsv.best_params_)\n",
    "print('Best estimator C:')\n",
    "print(gsv.best_estimator_.C)\n",
    "print('Best estimator mean cross validated training score:')\n",
    "print(gsv.best_score_)\n",
    "print('Best estimator score on the full training set:')\n",
    "print(gsv.score(Xv_train, yv_train))\n",
    "print('Best estimator score on the test set:')\n",
    "print(gsv.score(Xv_test, yv_test))\n",
    "print('Best estimator coefficients:')\n",
    "print(gsv.best_estimator_.coef_)"
   ]
  },
  {
   "cell_type": "code",
   "execution_count": 53,
   "id": "959ea082",
   "metadata": {},
   "outputs": [],
   "source": [
    "#get the predictions for the training and test data\n",
    "predictions_train = gsv.predict(Xv_train)\n",
    "predictions_test = gsv.predict(Xv_test)"
   ]
  },
  {
   "cell_type": "code",
   "execution_count": 54,
   "id": "024757b5",
   "metadata": {},
   "outputs": [
    {
     "name": "stdout",
     "output_type": "stream",
     "text": [
      "              precision    recall  f1-score   support\n",
      "\n",
      " high salary       0.80      0.68      0.73       469\n",
      "  low salary       0.75      0.85      0.80       527\n",
      "\n",
      "    accuracy                           0.77       996\n",
      "   macro avg       0.77      0.76      0.76       996\n",
      "weighted avg       0.77      0.77      0.77       996\n",
      "\n"
     ]
    }
   ],
   "source": [
    "#our classification report for the training set\n",
    "print(classification_report(yv_train, predictions_train))"
   ]
  },
  {
   "cell_type": "code",
   "execution_count": 55,
   "id": "2984d7a5",
   "metadata": {},
   "outputs": [
    {
     "name": "stdout",
     "output_type": "stream",
     "text": [
      "              precision    recall  f1-score   support\n",
      "\n",
      " high salary       0.73      0.72      0.72       118\n",
      "  low salary       0.75      0.76      0.75       132\n",
      "\n",
      "    accuracy                           0.74       250\n",
      "   macro avg       0.74      0.74      0.74       250\n",
      "weighted avg       0.74      0.74      0.74       250\n",
      "\n"
     ]
    }
   ],
   "source": [
    "#our classification report for the test set\n",
    "print(classification_report(yv_test, predictions_test))"
   ]
  },
  {
   "cell_type": "code",
   "execution_count": 56,
   "id": "22eabdd5",
   "metadata": {},
   "outputs": [
    {
     "name": "stdout",
     "output_type": "stream",
     "text": [
      "[[ 85  33]\n",
      " [ 32 100]]\n"
     ]
    }
   ],
   "source": [
    "print(confusion_matrix(yv_test, predictions_test, labels=['high salary','low salary']))"
   ]
  },
  {
   "cell_type": "code",
   "execution_count": 57,
   "id": "2958d474",
   "metadata": {},
   "outputs": [
    {
     "data": {
      "image/png": "[encoded data removed]",
      "text/plain": [
       "<Figure size 432x288 with 2 Axes>"
      ]
     },
     "metadata": {
      "image/png": {
       "height": 264,
       "width": 361
      },
      "needs_background": "light"
     },
     "output_type": "display_data"
    }
   ],
   "source": [
    "from sklearn.metrics import plot_confusion_matrix, plot_roc_curve\n",
    "\n",
    "plot_confusion_matrix(gsv, Xv, yv, cmap='Blues', labels=['high salary','low salary'])\n",
    "plt.show()"
   ]
  },
  {
   "cell_type": "markdown",
   "id": "b7a4cf1b",
   "metadata": {},
   "source": [
    "Adding additional features really improves the score. Our best estimator on the mean cross validated training score is now 75.4 compared to the original logistic regression score of 60.75 and the baseline accuracy of 52.89."
   ]
  },
  {
   "cell_type": "markdown",
   "id": "7b6445b5",
   "metadata": {},
   "source": [
    "# 3.4 Decision Tree Classifier on more features"
   ]
  },
  {
   "cell_type": "code",
   "execution_count": 58,
   "id": "430f5cf4",
   "metadata": {},
   "outputs": [],
   "source": [
    "#using grid search to find the best decision tree classifier\n",
    "# gridsearch params\n",
    "dtc_paramsv = {\n",
    "    'max_depth': list(range(1, 11))+[None],\n",
    "    'max_features': [None, 1, 2, 3],\n",
    "    'min_samples_split': [2, 3, 4, 5, 10, 15, 20, 25, 30, 40, 50],\n",
    "    'ccp_alpha': [0, 0.001, 0.005, 0.01]\n",
    "}\n",
    "\n",
    "# set the gridsearch\n",
    "modelv = DecisionTreeClassifier()\n",
    "dtc_gsv = GridSearchCV(modelv, dtc_paramsv, cv=5, verbose=1, n_jobs=-2)"
   ]
  },
  {
   "cell_type": "code",
   "execution_count": 59,
   "id": "f7e8b3c5",
   "metadata": {},
   "outputs": [
    {
     "name": "stdout",
     "output_type": "stream",
     "text": [
      "Fitting 5 folds for each of 1936 candidates, totalling 9680 fits\n",
      "{'ccp_alpha': 0, 'max_depth': None, 'max_features': 1, 'min_samples_split': 2}\n",
      "0.7771256281407035\n"
     ]
    }
   ],
   "source": [
    "# use the gridearch model to fit the data\n",
    "dtc_gsv.fit(Xv_train, yv_train)\n",
    "dtc_bestv = dtc_gsv.best_estimator_\n",
    "print(dtc_gsv.best_params_)\n",
    "print(dtc_gsv.best_score_)"
   ]
  },
  {
   "cell_type": "markdown",
   "id": "82dd7f22",
   "metadata": {},
   "source": [
    "The decision tree classifier once again performs better than logistic regression and adding more features helps it to perform even better.\n",
    "Using the previous features, our score was 61.15 whereas it is now 77.71."
   ]
  },
  {
   "cell_type": "code",
   "execution_count": 61,
   "id": "8064ea06",
   "metadata": {},
   "outputs": [
    {
     "data": {
      "text/html": [
       "<div>\n",
       "<style scoped>\n",
       "    .dataframe tbody tr th:only-of-type {\n",
       "        vertical-align: middle;\n",
       "    }\n",
       "\n",
       "    .dataframe tbody tr th {\n",
       "        vertical-align: top;\n",
       "    }\n",
       "\n",
       "    .dataframe thead th {\n",
       "        text-align: right;\n",
       "    }\n",
       "</style>\n",
       "<table border=\"1\" class=\"dataframe\">\n",
       "  <thead>\n",
       "    <tr style=\"text-align: right;\">\n",
       "      <th></th>\n",
       "      <th>feature</th>\n",
       "      <th>importance</th>\n",
       "    </tr>\n",
       "  </thead>\n",
       "  <tbody>\n",
       "    <tr>\n",
       "      <th>24</th>\n",
       "      <td>analyst</td>\n",
       "      <td>0.261564</td>\n",
       "    </tr>\n",
       "    <tr>\n",
       "      <th>15</th>\n",
       "      <td>research</td>\n",
       "      <td>0.091993</td>\n",
       "    </tr>\n",
       "    <tr>\n",
       "      <th>13</th>\n",
       "      <td>senior</td>\n",
       "      <td>0.086344</td>\n",
       "    </tr>\n",
       "    <tr>\n",
       "      <th>25</th>\n",
       "      <td>scientist</td>\n",
       "      <td>0.076491</td>\n",
       "    </tr>\n",
       "    <tr>\n",
       "      <th>18</th>\n",
       "      <td>manager</td>\n",
       "      <td>0.064943</td>\n",
       "    </tr>\n",
       "    <tr>\n",
       "      <th>21</th>\n",
       "      <td>graduate</td>\n",
       "      <td>0.043579</td>\n",
       "    </tr>\n",
       "    <tr>\n",
       "      <th>16</th>\n",
       "      <td>lecturer</td>\n",
       "      <td>0.037185</td>\n",
       "    </tr>\n",
       "    <tr>\n",
       "      <th>0</th>\n",
       "      <td>London</td>\n",
       "      <td>0.035921</td>\n",
       "    </tr>\n",
       "    <tr>\n",
       "      <th>14</th>\n",
       "      <td>lead</td>\n",
       "      <td>0.035011</td>\n",
       "    </tr>\n",
       "    <tr>\n",
       "      <th>3</th>\n",
       "      <td>Glasgow</td>\n",
       "      <td>0.034008</td>\n",
       "    </tr>\n",
       "    <tr>\n",
       "      <th>17</th>\n",
       "      <td>head</td>\n",
       "      <td>0.032293</td>\n",
       "    </tr>\n",
       "    <tr>\n",
       "      <th>23</th>\n",
       "      <td>junior</td>\n",
       "      <td>0.029284</td>\n",
       "    </tr>\n",
       "    <tr>\n",
       "      <th>4</th>\n",
       "      <td>Edinburgh</td>\n",
       "      <td>0.026976</td>\n",
       "    </tr>\n",
       "    <tr>\n",
       "      <th>6</th>\n",
       "      <td>Leeds</td>\n",
       "      <td>0.024919</td>\n",
       "    </tr>\n",
       "    <tr>\n",
       "      <th>1</th>\n",
       "      <td>Birmingham</td>\n",
       "      <td>0.019426</td>\n",
       "    </tr>\n",
       "    <tr>\n",
       "      <th>5</th>\n",
       "      <td>Manchester</td>\n",
       "      <td>0.018952</td>\n",
       "    </tr>\n",
       "    <tr>\n",
       "      <th>20</th>\n",
       "      <td>specialist</td>\n",
       "      <td>0.016082</td>\n",
       "    </tr>\n",
       "    <tr>\n",
       "      <th>19</th>\n",
       "      <td>consultant</td>\n",
       "      <td>0.014710</td>\n",
       "    </tr>\n",
       "    <tr>\n",
       "      <th>2</th>\n",
       "      <td>Bristol</td>\n",
       "      <td>0.013054</td>\n",
       "    </tr>\n",
       "    <tr>\n",
       "      <th>9</th>\n",
       "      <td>Newcastle</td>\n",
       "      <td>0.012845</td>\n",
       "    </tr>\n",
       "    <tr>\n",
       "      <th>10</th>\n",
       "      <td>Belfast</td>\n",
       "      <td>0.010213</td>\n",
       "    </tr>\n",
       "    <tr>\n",
       "      <th>8</th>\n",
       "      <td>Nottingham</td>\n",
       "      <td>0.006137</td>\n",
       "    </tr>\n",
       "    <tr>\n",
       "      <th>12</th>\n",
       "      <td>Southampton</td>\n",
       "      <td>0.005459</td>\n",
       "    </tr>\n",
       "    <tr>\n",
       "      <th>22</th>\n",
       "      <td>intern</td>\n",
       "      <td>0.001898</td>\n",
       "    </tr>\n",
       "    <tr>\n",
       "      <th>7</th>\n",
       "      <td>Cardiff</td>\n",
       "      <td>0.000443</td>\n",
       "    </tr>\n",
       "    <tr>\n",
       "      <th>11</th>\n",
       "      <td>Sheffield</td>\n",
       "      <td>0.000269</td>\n",
       "    </tr>\n",
       "  </tbody>\n",
       "</table>\n",
       "</div>"
      ],
      "text/plain": [
       "        feature  importance\n",
       "24      analyst    0.261564\n",
       "15     research    0.091993\n",
       "13       senior    0.086344\n",
       "25    scientist    0.076491\n",
       "18      manager    0.064943\n",
       "21     graduate    0.043579\n",
       "16     lecturer    0.037185\n",
       "0        London    0.035921\n",
       "14         lead    0.035011\n",
       "3       Glasgow    0.034008\n",
       "17         head    0.032293\n",
       "23       junior    0.029284\n",
       "4     Edinburgh    0.026976\n",
       "6         Leeds    0.024919\n",
       "1    Birmingham    0.019426\n",
       "5    Manchester    0.018952\n",
       "20   specialist    0.016082\n",
       "19   consultant    0.014710\n",
       "2       Bristol    0.013054\n",
       "9     Newcastle    0.012845\n",
       "10      Belfast    0.010213\n",
       "8    Nottingham    0.006137\n",
       "12  Southampton    0.005459\n",
       "22       intern    0.001898\n",
       "7       Cardiff    0.000443\n",
       "11    Sheffield    0.000269"
      ]
     },
     "execution_count": 61,
     "metadata": {},
     "output_type": "execute_result"
    }
   ],
   "source": [
    "#show the features\n",
    "fiv = pd.DataFrame({\n",
    "    'feature': Xv.columns,\n",
    "    'importance': dtc_bestv.feature_importances_\n",
    "})\n",
    "\n",
    "fiv.sort_values('importance', ascending=False, inplace=True)\n",
    "fiv"
   ]
  },
  {
   "cell_type": "code",
   "execution_count": 62,
   "id": "a3160b45",
   "metadata": {},
   "outputs": [
    {
     "data": {
      "text/plain": [
       "[Text(0, 0, 'analyst'),\n",
       " Text(1, 0, 'research'),\n",
       " Text(2, 0, 'senior'),\n",
       " Text(3, 0, 'scientist'),\n",
       " Text(4, 0, 'manager'),\n",
       " Text(5, 0, 'graduate'),\n",
       " Text(6, 0, 'lecturer'),\n",
       " Text(7, 0, 'London'),\n",
       " Text(8, 0, 'lead'),\n",
       " Text(9, 0, 'Glasgow'),\n",
       " Text(10, 0, 'head'),\n",
       " Text(11, 0, 'junior'),\n",
       " Text(12, 0, 'Edinburgh'),\n",
       " Text(13, 0, 'Leeds'),\n",
       " Text(14, 0, 'Birmingham'),\n",
       " Text(15, 0, 'Manchester'),\n",
       " Text(16, 0, 'specialist'),\n",
       " Text(17, 0, 'consultant'),\n",
       " Text(18, 0, 'Bristol'),\n",
       " Text(19, 0, 'Newcastle'),\n",
       " Text(20, 0, 'Belfast'),\n",
       " Text(21, 0, 'Nottingham'),\n",
       " Text(22, 0, 'Southampton'),\n",
       " Text(23, 0, 'intern'),\n",
       " Text(24, 0, 'Cardiff'),\n",
       " Text(25, 0, 'Sheffield')]"
      ]
     },
     "execution_count": 62,
     "metadata": {},
     "output_type": "execute_result"
    },
    {
     "data": {
      "image/png": "[encoded data removed]",
      "text/plain": [
       "<Figure size 1152x432 with 1 Axes>"
      ]
     },
     "metadata": {
      "image/png": {
       "height": 407,
       "width": 953
      },
      "needs_background": "light"
     },
     "output_type": "display_data"
    }
   ],
   "source": [
    "#show the features in a graph\n",
    "import matplotlib.pyplot as plt\n",
    "import seaborn as sns\n",
    "\n",
    "plt.figure().set_size_inches(16, 6)\n",
    "fg = sns.barplot(x='feature', y='importance',data=fiv, palette=\"Blues_d\")\n",
    "fg.set_xticklabels(rotation=35, labels=fiv.feature)"
   ]
  },
  {
   "cell_type": "markdown",
   "id": "8e774bea",
   "metadata": {},
   "source": [
    "With more features, analyst is the most important in determining whether a salary is high or low. London, which took top place in the previous dataset, is now in 7th place. \n",
    "\n",
    "In general, features from the title do better than from the location. "
   ]
  },
  {
   "cell_type": "markdown",
   "id": "420b58a0",
   "metadata": {},
   "source": [
    "# 4. Model Evaluation"
   ]
  },
  {
   "cell_type": "markdown",
   "id": "34eb85ed",
   "metadata": {},
   "source": [
    "### 4.1 Adjusting the model for the boss"
   ]
  },
  {
   "cell_type": "code",
   "execution_count": 63,
   "id": "a641b8b3",
   "metadata": {},
   "outputs": [
    {
     "data": {
      "text/html": [
       "<div>\n",
       "<style scoped>\n",
       "    .dataframe tbody tr th:only-of-type {\n",
       "        vertical-align: middle;\n",
       "    }\n",
       "\n",
       "    .dataframe tbody tr th {\n",
       "        vertical-align: top;\n",
       "    }\n",
       "\n",
       "    .dataframe thead th {\n",
       "        text-align: right;\n",
       "    }\n",
       "</style>\n",
       "<table border=\"1\" class=\"dataframe\">\n",
       "  <thead>\n",
       "    <tr style=\"text-align: right;\">\n",
       "      <th></th>\n",
       "      <th>min_salary</th>\n",
       "      <th>max_salary</th>\n",
       "    </tr>\n",
       "  </thead>\n",
       "  <tbody>\n",
       "    <tr>\n",
       "      <th>0</th>\n",
       "      <td>0.565046</td>\n",
       "      <td>0.434954</td>\n",
       "    </tr>\n",
       "    <tr>\n",
       "      <th>1</th>\n",
       "      <td>0.499687</td>\n",
       "      <td>0.500313</td>\n",
       "    </tr>\n",
       "    <tr>\n",
       "      <th>2</th>\n",
       "      <td>0.293444</td>\n",
       "      <td>0.706556</td>\n",
       "    </tr>\n",
       "    <tr>\n",
       "      <th>3</th>\n",
       "      <td>0.369330</td>\n",
       "      <td>0.630670</td>\n",
       "    </tr>\n",
       "    <tr>\n",
       "      <th>4</th>\n",
       "      <td>0.369330</td>\n",
       "      <td>0.630670</td>\n",
       "    </tr>\n",
       "  </tbody>\n",
       "</table>\n",
       "</div>"
      ],
      "text/plain": [
       "   min_salary  max_salary\n",
       "0    0.565046    0.434954\n",
       "1    0.499687    0.500313\n",
       "2    0.293444    0.706556\n",
       "3    0.369330    0.630670\n",
       "4    0.369330    0.630670"
      ]
     },
     "execution_count": 63,
     "metadata": {},
     "output_type": "execute_result"
    }
   ],
   "source": [
    "# Get the predicted probabilities and explicitly name the columns:\n",
    "Y_pp = pd.DataFrame(gsv.predict_proba(Xv), \n",
    "             columns=['min_salary', 'max_salary'])\n",
    "Y_pp.head()"
   ]
  },
  {
   "cell_type": "code",
   "execution_count": 64,
   "id": "c77c73a8",
   "metadata": {},
   "outputs": [],
   "source": [
    "#increase the threshold for the predicting class.\n",
    "#this will reduce our false positive rate, but at the expense of a higher false negative rate\n",
    "def predict_at_threshold(x, threshold=0.6):\n",
    "    if x >= threshold:\n",
    "        return 'high salary'\n",
    "    else:\n",
    "        return 'low salary'"
   ]
  },
  {
   "cell_type": "code",
   "execution_count": 65,
   "id": "f0f79ea4",
   "metadata": {},
   "outputs": [
    {
     "data": {
      "text/html": [
       "<div>\n",
       "<style scoped>\n",
       "    .dataframe tbody tr th:only-of-type {\n",
       "        vertical-align: middle;\n",
       "    }\n",
       "\n",
       "    .dataframe tbody tr th {\n",
       "        vertical-align: top;\n",
       "    }\n",
       "\n",
       "    .dataframe thead th {\n",
       "        text-align: right;\n",
       "    }\n",
       "</style>\n",
       "<table border=\"1\" class=\"dataframe\">\n",
       "  <thead>\n",
       "    <tr style=\"text-align: right;\">\n",
       "      <th></th>\n",
       "      <th>min_salary</th>\n",
       "      <th>max_salary</th>\n",
       "      <th>pred_class_thresh</th>\n",
       "    </tr>\n",
       "  </thead>\n",
       "  <tbody>\n",
       "    <tr>\n",
       "      <th>0</th>\n",
       "      <td>0.565046</td>\n",
       "      <td>0.434954</td>\n",
       "      <td>low salary</td>\n",
       "    </tr>\n",
       "    <tr>\n",
       "      <th>1</th>\n",
       "      <td>0.499687</td>\n",
       "      <td>0.500313</td>\n",
       "      <td>low salary</td>\n",
       "    </tr>\n",
       "    <tr>\n",
       "      <th>2</th>\n",
       "      <td>0.293444</td>\n",
       "      <td>0.706556</td>\n",
       "      <td>low salary</td>\n",
       "    </tr>\n",
       "    <tr>\n",
       "      <th>3</th>\n",
       "      <td>0.369330</td>\n",
       "      <td>0.630670</td>\n",
       "      <td>low salary</td>\n",
       "    </tr>\n",
       "    <tr>\n",
       "      <th>4</th>\n",
       "      <td>0.369330</td>\n",
       "      <td>0.630670</td>\n",
       "      <td>low salary</td>\n",
       "    </tr>\n",
       "    <tr>\n",
       "      <th>5</th>\n",
       "      <td>0.504630</td>\n",
       "      <td>0.495370</td>\n",
       "      <td>low salary</td>\n",
       "    </tr>\n",
       "    <tr>\n",
       "      <th>6</th>\n",
       "      <td>0.504630</td>\n",
       "      <td>0.495370</td>\n",
       "      <td>low salary</td>\n",
       "    </tr>\n",
       "    <tr>\n",
       "      <th>7</th>\n",
       "      <td>0.386775</td>\n",
       "      <td>0.613225</td>\n",
       "      <td>low salary</td>\n",
       "    </tr>\n",
       "    <tr>\n",
       "      <th>8</th>\n",
       "      <td>0.499687</td>\n",
       "      <td>0.500313</td>\n",
       "      <td>low salary</td>\n",
       "    </tr>\n",
       "    <tr>\n",
       "      <th>9</th>\n",
       "      <td>0.293444</td>\n",
       "      <td>0.706556</td>\n",
       "      <td>low salary</td>\n",
       "    </tr>\n",
       "    <tr>\n",
       "      <th>10</th>\n",
       "      <td>0.369330</td>\n",
       "      <td>0.630670</td>\n",
       "      <td>low salary</td>\n",
       "    </tr>\n",
       "    <tr>\n",
       "      <th>11</th>\n",
       "      <td>0.369330</td>\n",
       "      <td>0.630670</td>\n",
       "      <td>low salary</td>\n",
       "    </tr>\n",
       "    <tr>\n",
       "      <th>12</th>\n",
       "      <td>0.504630</td>\n",
       "      <td>0.495370</td>\n",
       "      <td>low salary</td>\n",
       "    </tr>\n",
       "    <tr>\n",
       "      <th>13</th>\n",
       "      <td>0.386775</td>\n",
       "      <td>0.613225</td>\n",
       "      <td>low salary</td>\n",
       "    </tr>\n",
       "    <tr>\n",
       "      <th>14</th>\n",
       "      <td>0.574381</td>\n",
       "      <td>0.425619</td>\n",
       "      <td>low salary</td>\n",
       "    </tr>\n",
       "    <tr>\n",
       "      <th>15</th>\n",
       "      <td>0.574381</td>\n",
       "      <td>0.425619</td>\n",
       "      <td>low salary</td>\n",
       "    </tr>\n",
       "    <tr>\n",
       "      <th>16</th>\n",
       "      <td>0.342012</td>\n",
       "      <td>0.657988</td>\n",
       "      <td>low salary</td>\n",
       "    </tr>\n",
       "    <tr>\n",
       "      <th>17</th>\n",
       "      <td>0.574381</td>\n",
       "      <td>0.425619</td>\n",
       "      <td>low salary</td>\n",
       "    </tr>\n",
       "    <tr>\n",
       "      <th>18</th>\n",
       "      <td>0.681235</td>\n",
       "      <td>0.318765</td>\n",
       "      <td>high salary</td>\n",
       "    </tr>\n",
       "    <tr>\n",
       "      <th>19</th>\n",
       "      <td>0.499687</td>\n",
       "      <td>0.500313</td>\n",
       "      <td>low salary</td>\n",
       "    </tr>\n",
       "  </tbody>\n",
       "</table>\n",
       "</div>"
      ],
      "text/plain": [
       "    min_salary  max_salary pred_class_thresh\n",
       "0     0.565046    0.434954        low salary\n",
       "1     0.499687    0.500313        low salary\n",
       "2     0.293444    0.706556        low salary\n",
       "3     0.369330    0.630670        low salary\n",
       "4     0.369330    0.630670        low salary\n",
       "5     0.504630    0.495370        low salary\n",
       "6     0.504630    0.495370        low salary\n",
       "7     0.386775    0.613225        low salary\n",
       "8     0.499687    0.500313        low salary\n",
       "9     0.293444    0.706556        low salary\n",
       "10    0.369330    0.630670        low salary\n",
       "11    0.369330    0.630670        low salary\n",
       "12    0.504630    0.495370        low salary\n",
       "13    0.386775    0.613225        low salary\n",
       "14    0.574381    0.425619        low salary\n",
       "15    0.574381    0.425619        low salary\n",
       "16    0.342012    0.657988        low salary\n",
       "17    0.574381    0.425619        low salary\n",
       "18    0.681235    0.318765       high salary\n",
       "19    0.499687    0.500313        low salary"
      ]
     },
     "execution_count": 65,
     "metadata": {},
     "output_type": "execute_result"
    }
   ],
   "source": [
    "#increase the threshold so you are more likely to predict min salary\n",
    "Y_pp['pred_class_thresh'] = Y_pp.min_salary.apply(predict_at_threshold, \n",
    "                                                threshold=0.6)\n",
    "Y_pp.head(20)"
   ]
  },
  {
   "cell_type": "code",
   "execution_count": 66,
   "id": "d1183a01",
   "metadata": {},
   "outputs": [
    {
     "name": "stdout",
     "output_type": "stream",
     "text": [
      "              precision    recall  f1-score   support\n",
      "\n",
      " high salary       0.89      0.35      0.50       587\n",
      "  low salary       0.62      0.96      0.76       659\n",
      "\n",
      "    accuracy                           0.67      1246\n",
      "   macro avg       0.76      0.66      0.63      1246\n",
      "weighted avg       0.75      0.67      0.64      1246\n",
      "\n"
     ]
    }
   ],
   "source": [
    "#see what the classification report would suggest\n",
    "print(classification_report(y, Y_pp.pred_class_thresh))"
   ]
  },
  {
   "cell_type": "code",
   "execution_count": 67,
   "id": "a95e3ee7",
   "metadata": {},
   "outputs": [
    {
     "data": {
      "text/html": [
       "<div>\n",
       "<style scoped>\n",
       "    .dataframe tbody tr th:only-of-type {\n",
       "        vertical-align: middle;\n",
       "    }\n",
       "\n",
       "    .dataframe tbody tr th {\n",
       "        vertical-align: top;\n",
       "    }\n",
       "\n",
       "    .dataframe thead th {\n",
       "        text-align: right;\n",
       "    }\n",
       "</style>\n",
       "<table border=\"1\" class=\"dataframe\">\n",
       "  <thead>\n",
       "    <tr style=\"text-align: right;\">\n",
       "      <th></th>\n",
       "      <th>predicted high salary</th>\n",
       "      <th>predicted low salary</th>\n",
       "    </tr>\n",
       "  </thead>\n",
       "  <tbody>\n",
       "    <tr>\n",
       "      <th>high salary</th>\n",
       "      <td>205</td>\n",
       "      <td>382</td>\n",
       "    </tr>\n",
       "    <tr>\n",
       "      <th>low salary</th>\n",
       "      <td>25</td>\n",
       "      <td>634</td>\n",
       "    </tr>\n",
       "  </tbody>\n",
       "</table>\n",
       "</div>"
      ],
      "text/plain": [
       "             predicted high salary  predicted low salary\n",
       "high salary                    205                   382\n",
       "low salary                      25                   634"
      ]
     },
     "execution_count": 67,
     "metadata": {},
     "output_type": "execute_result"
    }
   ],
   "source": [
    "#and see how this would change the predictions in each category\n",
    "conmat = confusion_matrix(\n",
    "    y, Y_pp.pred_class_thresh, labels=['high salary', 'low salary'])\n",
    "\n",
    "confusion = pd.DataFrame(conmat, index=['high salary', 'low salary'],\n",
    "                         columns=['predicted high salary', 'predicted low salary'])\n",
    "confusion"
   ]
  },
  {
   "cell_type": "markdown",
   "id": "1368cec2",
   "metadata": {},
   "source": [
    "By increasing the threshold of the high salary predictions, we can make sure that the boss is more likely to tell a client he has a lower salary incorrectly than a higher one. Increasing the threshold implies that instead of baseline accuracy, we manually change this so that salaries have to be even higher to get over the threshold of saying that it is a high salary. \n",
    "\n",
    "It does mean that our model has less accuracy - we predict salary at 67% accuracy as compared to 77% and 74% for our training and test data in the previous Logistic Regression with all features. \n",
    "\n",
    "Furthermore, our precision and recall numbers also change. Originally precision was lower for high salary and higher for low salary and our new model has swapped this around. (Precision for the high salary was 80% and 73% for the train and test data compared with 89% in our new model. This can be compared to the precision for the low salary, which was 75% for both the train and test data and 62% for the new model).\n",
    "\n",
    "Precision is the number of detected elements that are truly relevant. In this way, because in our new model fewer high salary predictions are made, they are more likely to be correct, therefore increasing the precision. However, it also means that more low salaries are detected as incorrect therefore lowering the precision.\n",
    "\n",
    "Recall is a measure of how many items are detected as the correct item. In this way, recall increases for the low salary, as it can catch almost all of the items, whereas it decreases for the high salary where we are often wrongly predicting a low salary instead.\n",
    "\n",
    "Recall in our train and test data original model for high salary was 68% and 72% respectively and this has decreased to 35% in our new model. At the same time, recall in our train and test data in the original model for the low salary was 85% and 76% respectively and this has increased to 96% in our new model. \n",
    "\n",
    "The tradeoff is between trying to detect all the salaries correctly versus avoiding telling clients that they will be receiving a high salary, whereas in fact they'll recieve a lower one. \n",
    "\n",
    "In this way, if the boss wants a model that's going to predict more clients to be in low paying jobs, then a model with lower accuracy that has high precision for the high salary (an increase of false negatives). \n"
   ]
  },
  {
   "cell_type": "code",
   "execution_count": 68,
   "id": "026e53ad",
   "metadata": {},
   "outputs": [],
   "source": [
    "from sklearn.metrics import roc_auc_score, average_precision_score, plot_roc_curve, plot_precision_recall_curve"
   ]
  },
  {
   "cell_type": "markdown",
   "id": "111162dc",
   "metadata": {},
   "source": [
    "### 4.2 Plotting the ROC curve for the original & improved model"
   ]
  },
  {
   "cell_type": "markdown",
   "id": "54d4ee13",
   "metadata": {},
   "source": [
    "#### 4.2.1 ROC original model "
   ]
  },
  {
   "cell_type": "code",
   "execution_count": 69,
   "id": "541c58be",
   "metadata": {},
   "outputs": [
    {
     "data": {
      "image/png": "[encoded data removed]",
      "text/plain": [
       "<Figure size 432x432 with 1 Axes>"
      ]
     },
     "metadata": {
      "image/png": {
       "height": 370,
       "width": 385
      },
      "needs_background": "light"
     },
     "output_type": "display_data"
    }
   ],
   "source": [
    "fig, ax = plt.subplots(figsize=(6, 6))\n",
    "plot_roc_curve(gs, X, y, ax=ax)\n",
    "ax.plot([0, 1], [0, 1], 'k--', linewidth=4)\n",
    "plt.show()"
   ]
  },
  {
   "cell_type": "code",
   "execution_count": 70,
   "id": "c46c0eb1",
   "metadata": {},
   "outputs": [
    {
     "data": {
      "text/plain": [
       "0.6117898421282568"
      ]
     },
     "execution_count": 70,
     "metadata": {},
     "output_type": "execute_result"
    }
   ],
   "source": [
    "roc_auc_score(y, gs.predict_proba(X)[:, 1])"
   ]
  },
  {
   "cell_type": "markdown",
   "id": "ad9980b9",
   "metadata": {},
   "source": [
    "##### 4.2.2. ROC for the improved model"
   ]
  },
  {
   "cell_type": "code",
   "execution_count": 71,
   "id": "bde56bb3",
   "metadata": {},
   "outputs": [
    {
     "data": {
      "image/png": "[encoded data removed]",
      "text/plain": [
       "<Figure size 432x432 with 1 Axes>"
      ]
     },
     "metadata": {
      "image/png": {
       "height": 370,
       "width": 385
      },
      "needs_background": "light"
     },
     "output_type": "display_data"
    }
   ],
   "source": [
    "fig, ax = plt.subplots(figsize=(6, 6))\n",
    "plot_roc_curve(gsv, Xv, yv, ax=ax)\n",
    "ax.plot([0, 1], [0, 1], 'k--', linewidth=4)\n",
    "plt.show()"
   ]
  },
  {
   "cell_type": "markdown",
   "id": "1266c273",
   "metadata": {},
   "source": [
    "As the ROC plots the true positive rate vs the false positive rate, both our models are better than the baseline accuracy of the black dotted line. \n",
    "\n",
    "Our new model with additional feaures performs even better at accoutning for more as the blue curve is even higher above the baseline with a larger area. "
   ]
  },
  {
   "cell_type": "markdown",
   "id": "24e5c5e9",
   "metadata": {},
   "source": [
    "### 4.3 Plotting the precision-recall curve for the original & improved model"
   ]
  },
  {
   "cell_type": "markdown",
   "id": "9d064f39",
   "metadata": {},
   "source": [
    "#### 4.3.1 Precision-recall curve original model "
   ]
  },
  {
   "cell_type": "code",
   "execution_count": 72,
   "id": "6b45a057",
   "metadata": {},
   "outputs": [
    {
     "data": {
      "image/png": "[encoded data removed]",
      "text/plain": [
       "<Figure size 432x432 with 1 Axes>"
      ]
     },
     "metadata": {
      "image/png": {
       "height": 370,
       "width": 385
      },
      "needs_background": "light"
     },
     "output_type": "display_data"
    }
   ],
   "source": [
    "# Plot of a precision-recall curve for low salary\n",
    "plt.fig, ax = plt.subplots(figsize=(6, 6))\n",
    "plot_precision_recall_curve(gs, X, y, ax=ax)\n",
    "plt.show()"
   ]
  },
  {
   "cell_type": "code",
   "execution_count": 73,
   "id": "beab41b7",
   "metadata": {},
   "outputs": [
    {
     "data": {
      "image/png": "[encoded data removed]",
      "text/plain": [
       "<Figure size 432x432 with 1 Axes>"
      ]
     },
     "metadata": {
      "image/png": {
       "height": 370,
       "width": 385
      },
      "needs_background": "light"
     },
     "output_type": "display_data"
    }
   ],
   "source": [
    "# Plot of a precision-recall curve for low salary\n",
    "plt.fig, ax = plt.subplots(figsize=(6, 6))\n",
    "plot_precision_recall_curve(gsv, Xv, yv, ax=ax)\n",
    "plt.show()"
   ]
  },
  {
   "cell_type": "markdown",
   "id": "c4b90105",
   "metadata": {},
   "source": [
    "As the second graph has a bigger area under the curve, as we increase the threshold for recall in low salary, we still have a higher recall value and therefore the second model with more features is better. "
   ]
  },
  {
   "cell_type": "markdown",
   "id": "cf02c2b8",
   "metadata": {},
   "source": [
    "# 5. Business Summary & Evaluation "
   ]
  },
  {
   "cell_type": "markdown",
   "id": "cae69a5f",
   "metadata": {},
   "source": [
    "Company X has asked us to discover what terms are relevant when hiring new candidates in the data field and which impact salary the most. \n",
    "\n",
    "Firstly we used the Indeed website to find listings on data science and data analytics jobs in a number of cities in the UK. We did this by scraping the website, taking relevant data, and downloading the information into a spreadsheet. \n",
    "\n",
    "We then needed to make sure that the data was in good working order, and as such got rid of multiple entries, deleted job posts that did not have any salary information, and found mean salaries if a range was given. \n",
    "We also made sure that we could search for relevant information by changing some words e.g. ‘Buxton’ for ‘Sheffield.’ \n",
    "\n",
    "Once our data was good to go, we could then investigate the relevant factors related to the salary. Rather than identifying specific numbers, we split our salary up into ‘high’ and ‘low’ based on the median salary of all the jobs. \n",
    "\n",
    "We could then link this to certain factors, focusing on the location of the job in the first instance. Through modelling, initially through Logistic Regression, we determined the probability of a job description being in either the high or low job salary category depending on these features. We found that we could predict these salary categories better than chance. \n",
    "\n",
    "To ensure the model was robust, we performed what’s known as a Grid Search prior to the Logistic Regression. A Grid Search searches through a number of different versions of the Regression model to determine which will perform the best, and this can then be applied. We also used Regularisation to ensure that our model doesn’t overfit - that is where it specifically fits the datapoints of our data, rather than an overall model. \n",
    "\n",
    "Our Logistic Regression model was better than if we just flipped a coin and decided which salary band a job was in. \n",
    "\n",
    "Secondly, we performed a Decision Tree on the data where we select branches of the data and evaluate and compare them to select the best course of action. Once again we performed a Grid Search to determine the best performing model and found that this gave us an even better result than Logistic Regression.\n",
    "\n",
    "The most useful cities for determining whether the salary was going to be low or high were London, Manchester, Nottingham, Belfast and Glasgow. \n",
    "\n",
    "Secondly, we investigated whether our models could be enhanced further by adding additional features with which to measure salary by. We chose information relating to the seniority of candidates, such as Manager, Lead and Junior, as well as whether the job posting was asking for an analyst or a scientist. \n",
    "\n",
    "We performed the same two analyses as above, and for that these additional features did enhance our results. Both model gave us better results, with the Decision Tree coming out top.\n",
    "\n",
    "This new model also showed us that there were other factors at play over and above the cities as described earlier, which could predict whether a salary was going to be described as either high or low. These were analyst, senior, research, lead, scientist and consultant. \n",
    "\n",
    "As the boss wanted to ensure that he told clients that they were gaining a lower salary to be on the safe side, when some would in fact gain a higher salary, we looked at changing the thresholds of the model and looking at how this would affect the results.\n",
    "\n",
    "This does decrease the accuracy of the results we get - more clients who actually gain a high salary are told they would get a low salary, however it does improve what’s known as the precision for the high salary. In this way, if we are to tell someone they are to receive a high salary, with the new threshold they are more likely to do so. \n",
    "\n",
    "However, there are a number of limitations and risks with our models.\n",
    "\n",
    "Limitations include the fact that only 13 UK cities were scraped. An increase in our number of datapoints by either investigating more areas in the UK or further afield, would generate more accurate findings. \n",
    "\n",
    "Other features were not included in our model which could have been looked at. These include the industry the job posting is in and the requirements needed for the job. \n",
    "\n",
    "Lastly, data was only scraped over a short time period of a week, and therefore was not reflective of the UK job market as a whole. Scraping over the course of a month or a year could generate different findings.\n",
    "\n",
    "Risks include the fact that we only ultimately used job listings that had salary information. This may have caused a bias in our model as it may be the case that job listing without salary information incur a higher or lower salary distribution. \n",
    "\n",
    "Secondly, using the median for our threshold of low versus high salary may not have been the most appropriate, especially as the boss was worried about telling clients they were going to receive a high salary when they were not. A more appropriate approach may have been to divide the salaries into the 25% quartile and 75% quartile range, where 25% of the salaries are defined as high and 75% of the salaries are defined as low. "
   ]
  },
  {
   "cell_type": "code",
   "execution_count": null,
   "id": "7cc59118",
   "metadata": {},
   "outputs": [],
   "source": []
  }
 ],
 "metadata": {
  "kernelspec": {
   "display_name": "Python 3",
   "language": "python",
   "name": "python3"
  },
  "language_info": {
   "codemirror_mode": {
    "name": "ipython",
    "version": 3
   },
   "file_extension": ".py",
   "mimetype": "text/x-python",
   "name": "python",
   "nbconvert_exporter": "python",
   "pygments_lexer": "ipython3",
   "version": "3.8.8"
  }
 },
 "nbformat": 4,
 "nbformat_minor": 5
}
